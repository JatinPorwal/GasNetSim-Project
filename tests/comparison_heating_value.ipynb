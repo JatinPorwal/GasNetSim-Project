{
 "cells": [
  {
   "cell_type": "code",
   "execution_count": 1,
   "id": "f2c9b6ec",
   "metadata": {},
   "outputs": [],
   "source": [
    "from collections import OrderedDict\n",
    "from scipy.constants import bar\n",
    "import pandas as pd\n",
    "import math\n",
    "import matplotlib.pyplot as plt"
   ]
  },
  {
   "cell_type": "code",
   "execution_count": 2,
   "id": "a896ea79",
   "metadata": {},
   "outputs": [],
   "source": [
    "from GERG2008.gerg2008 import *"
   ]
  },
  {
   "cell_type": "code",
   "execution_count": 3,
   "id": "01a09a8d",
   "metadata": {},
   "outputs": [
    {
     "name": "stdout",
     "output_type": "stream",
     "text": [
      "Using Cantera version: 2.6.0\n"
     ]
    }
   ],
   "source": [
    "import cantera as ct\n",
    "\n",
    "print(f\"Using Cantera version: {ct.__version__}\")"
   ]
  },
  {
   "cell_type": "code",
   "execution_count": 4,
   "id": "72bee0a0",
   "metadata": {},
   "outputs": [],
   "source": [
    "fuels = [\"CH4\", \"C2H6\", \"C3H8\", \"H2\", \"CO\"]"
   ]
  },
  {
   "cell_type": "code",
   "execution_count": 5,
   "id": "a9d50593",
   "metadata": {},
   "outputs": [
    {
     "data": {
      "text/plain": [
       "[0.6484926588314163,\n",
       " 1.2228248480248802,\n",
       " 1.8085351993461924,\n",
       " 0.08130549417237744,\n",
       " 1.1308810162414191]"
      ]
     },
     "execution_count": 5,
     "metadata": {},
     "output_type": "execute_result"
    }
   ],
   "source": [
    "# better density calculation with gerg2008!\n",
    "molar_density = [0.6484926588314163,\n",
    "                 1.2228248480248802,\n",
    "                 1.8085351993461924,\n",
    "                 0.04065274708618872*2,\n",
    "                 1.1308810162414191]\n",
    "molar_density"
   ]
  },
  {
   "cell_type": "code",
   "execution_count": 6,
   "id": "bfc14223",
   "metadata": {},
   "outputs": [],
   "source": [
    "def heating_value(fuel):\n",
    "    \"\"\"Returns the LHV and HHV for the specified fuel\"\"\"\n",
    "    gas.TP = 298, ct.one_atm\n",
    "    gas.set_equivalence_ratio(1.0, fuel, \"O2:1.0\")\n",
    "    h1 = gas.enthalpy_mass\n",
    "    Y_fuel = gas[fuel].Y[0]\n",
    "\n",
    "    # complete combustion products\n",
    "    X_products = {\n",
    "        \"CO2\": gas.elemental_mole_fraction(\"C\"),\n",
    "        \"H2O\": 0.5 * gas.elemental_mole_fraction(\"H\"),\n",
    "        \"N2\": 0.5 * gas.elemental_mole_fraction(\"N\"),\n",
    "    }\n",
    "\n",
    "    gas.TPX = None, None, X_products\n",
    "    Y_H2O = gas[\"H2O\"].Y[0]\n",
    "    h2 = gas.enthalpy_mass\n",
    "    LHV = -(h2 - h1) / Y_fuel / 1e6\n",
    "    HHV = -(h2 - h1 + (h_liquid - h_gas) * Y_H2O) / Y_fuel / 1e6\n",
    "    return LHV, HHV"
   ]
  },
  {
   "cell_type": "code",
   "execution_count": 7,
   "id": "c7d10988",
   "metadata": {},
   "outputs": [],
   "source": [
    "gas = ct.Solution(\"gri30.yaml\")"
   ]
  },
  {
   "cell_type": "code",
   "execution_count": 8,
   "id": "301f2aa4",
   "metadata": {},
   "outputs": [],
   "source": [
    "water = ct.Water()"
   ]
  },
  {
   "cell_type": "code",
   "execution_count": 9,
   "id": "b4bbf3d7",
   "metadata": {},
   "outputs": [],
   "source": [
    "# Set liquid water state, with vapor fraction x = 0\n",
    "water.TQ = 298, 0\n",
    "h_liquid = water.h"
   ]
  },
  {
   "cell_type": "code",
   "execution_count": 10,
   "id": "3bc496c3",
   "metadata": {},
   "outputs": [],
   "source": [
    "# Set gaseous water state, with vapor fraction x = 1\n",
    "water.TQ = 298, 1\n",
    "h_gas = water.h"
   ]
  },
  {
   "cell_type": "code",
   "execution_count": 11,
   "id": "fc4a0508",
   "metadata": {},
   "outputs": [],
   "source": [
    "# cantera MJ/kg - MJ/m3\n",
    "LHV_cantera_mass = []\n",
    "HHV_cantera_mass = []\n",
    "LHV_cantera_vol = []\n",
    "HHV_cantera_vol = []"
   ]
  },
  {
   "cell_type": "code",
   "execution_count": 12,
   "id": "6f3d4686",
   "metadata": {},
   "outputs": [],
   "source": [
    "for i in range(len(fuels)):\n",
    "    LHV, HHV = heating_value(fuels[i])\n",
    "    LHV_cantera_mass.append(LHV)\n",
    "    HHV_cantera_mass.append(HHV)\n",
    "    LHV_cantera_vol.append(LHV*molar_density[i])\n",
    "    HHV_cantera_vol.append(HHV*molar_density[i])"
   ]
  },
  {
   "cell_type": "code",
   "execution_count": 13,
   "id": "22c33710",
   "metadata": {},
   "outputs": [],
   "source": [
    "# gerg2008 kJ/kg - kJ/m3\n",
    "LHV_gerg2008_mass = []\n",
    "HHV_gerg2008_mass = []\n",
    "LHV_gerg2008_vol = []\n",
    "HHV_gerg2008_vol = []"
   ]
  },
  {
   "cell_type": "code",
   "execution_count": 14,
   "id": "e24f4105",
   "metadata": {},
   "outputs": [],
   "source": [
    "gas_comp = {'methane':1, 'ethane':1, 'propane':1, 'hydrogen':1, 'carbon monoxide':1}"
   ]
  },
  {
   "cell_type": "code",
   "execution_count": 15,
   "id": "ac398e8e",
   "metadata": {},
   "outputs": [],
   "source": [
    "for key, value in gas_comp.items():\n",
    "    gas_mixture = GasMixtureGERG2008(P=1 * bar, T=298, composition={key:value})\n",
    "    HHV = gas_mixture.CalculateHeatingValue({key:value}, hhv=True, parameter='mass')\n",
    "    LHV = gas_mixture.CalculateHeatingValue({key:value}, hhv=False, parameter='mass')\n",
    "    LHV_gerg2008_mass.append(LHV)\n",
    "    HHV_gerg2008_mass.append(HHV)\n",
    "    HHV = gas_mixture.CalculateHeatingValue({key:value}, hhv=True, parameter='vol')\n",
    "    LHV = gas_mixture.CalculateHeatingValue({key:value}, hhv=False, parameter='vol')\n",
    "    LHV_gerg2008_vol.append(LHV)\n",
    "    HHV_gerg2008_vol.append(HHV)"
   ]
  },
  {
   "cell_type": "code",
   "execution_count": 16,
   "id": "2a0cfd55",
   "metadata": {},
   "outputs": [],
   "source": [
    "LHV_gerg2008_mass = [x/1000 for x in LHV_gerg2008_mass]\n",
    "LHV_gerg2008_vol = [x/1000 for x in LHV_gerg2008_vol]"
   ]
  },
  {
   "cell_type": "code",
   "execution_count": 17,
   "id": "af4883db",
   "metadata": {},
   "outputs": [],
   "source": [
    "HHV_gerg2008_mass = [x/1000 for x in HHV_gerg2008_mass]\n",
    "HHV_gerg2008_vol = [x/1000 for x in HHV_gerg2008_vol]"
   ]
  },
  {
   "cell_type": "code",
   "execution_count": 18,
   "id": "246169fd",
   "metadata": {},
   "outputs": [],
   "source": [
    "LHV_close_mass = []\n",
    "HHV_close_mass = []\n",
    "LHV_close_vol = []\n",
    "HHV_close_vol = []"
   ]
  },
  {
   "cell_type": "code",
   "execution_count": 19,
   "id": "d050a846",
   "metadata": {},
   "outputs": [],
   "source": [
    "LHV_err_mass = []\n",
    "HHV_err_mass = []\n",
    "LHV_err_vol = []\n",
    "HHV_err_vol = []"
   ]
  },
  {
   "cell_type": "code",
   "execution_count": 20,
   "id": "e013511e",
   "metadata": {},
   "outputs": [],
   "source": [
    "for i in range(len(LHV_cantera_mass)):\n",
    "    LHV_close_mass.append(math.isclose(LHV_cantera_mass[i], LHV_gerg2008_mass[i], abs_tol=0.01))\n",
    "    HHV_close_mass.append(math.isclose(HHV_cantera_mass[i], HHV_gerg2008_mass[i], abs_tol=0.01))\n",
    "    LHV_close_vol.append(math.isclose(LHV_cantera_vol[i], LHV_gerg2008_vol[i], abs_tol=0.01))\n",
    "    HHV_close_vol.append(math.isclose(HHV_cantera_vol[i], HHV_gerg2008_vol[i], abs_tol=0.01))\n",
    "    LHV_err_mass.append(abs(LHV_cantera_mass[i]-LHV_gerg2008_mass[i])/LHV_cantera_mass[i])\n",
    "    HHV_err_mass.append(abs(HHV_cantera_mass[i]-HHV_gerg2008_mass[i])/HHV_cantera_mass[i])\n",
    "    LHV_err_vol.append(abs(LHV_cantera_vol[i]-LHV_gerg2008_vol[i])/LHV_cantera_vol[i])\n",
    "    HHV_err_vol.append(abs(HHV_cantera_vol[i]-HHV_gerg2008_vol[i])/HHV_cantera_vol[i])"
   ]
  },
  {
   "cell_type": "markdown",
   "id": "a544d9e7",
   "metadata": {},
   "source": [
    "<h2 style=\"text-align: center;\"> LHV COMPARISON MJ/kg </h2>\n",
    "\n",
    "***\n",
    "| Molecule | Gerg2008 [MJ/kg] | Cantera [MJ/kg] | Relative Error [%] |\n",
    "| :-: | :-: | :-: | :-: |\n",
    "| CH4 | 50.028076 | 50.025488 | 0.0052 |\n",
    "| C2H6| 47.512796 | 47.510518 | 0.0048 |\n",
    "| C3H8| 46.353899 | 46.351730 | 0.0047 |\n",
    "|  H2 | 119.960955 | 119.951950 | 0.0075 |\n",
    "|  CO | 10.102758 | 10.102727 | 0.0003 |"
   ]
  },
  {
   "cell_type": "markdown",
   "id": "eb9111d3",
   "metadata": {},
   "source": [
    "<h2 style=\"text-align: center;\"> HHV COMPARISON MJ/kg </h2>\n",
    "\n",
    "***\n",
    "| Molecule | Gerg2008 [MJ/kg] | Cantera [MJ/kg] | Relative Error [-] |\n",
    "| :-: | :-: | :-: | :-: |\n",
    "| CH4 | 55.514142 | 55.511325 | 0.0051 |\n",
    "| C2H6| 51.903192 | 51.900738 | 0.0047 |\n",
    "| C3H8| 50.345679 | 50.343352 | 0.0046 |\n",
    "|  H2 | 141.790131 | 141.779648 | 0.0074 |\n",
    "|  CO | 10.102758 | 10.102727 | 0.0003 |"
   ]
  },
  {
   "cell_type": "markdown",
   "id": "f750723c",
   "metadata": {},
   "source": [
    "<h2 style=\"text-align: center;\"> LHV COMPARISON MJ/m3 </h2>\n",
    "\n",
    "***\n",
    "| Molecule | Gerg2008 [MJ/kg] | Cantera [MJ/kg] | Relative Error [-] |\n",
    "| :-: | :-: | :-: | :-: |\n",
    "| CH4 | 32.447816 | 32.441162 | 0.0205 |\n",
    "| C2H6| 58.097973 | 58.097042 | 0.0016 |\n",
    "| C3H8| 83.824332 | 83.828735 | 0.0053 |\n",
    "|  H2 | 9.754452 | 9.752753 | 0.0174 |\n",
    "|  CO | 11.425058 | 11.424982 | 0.0007 |"
   ]
  },
  {
   "cell_type": "markdown",
   "id": "feb80d0a",
   "metadata": {},
   "source": [
    "<h2 style=\"text-align: center;\"> HHV COMPARISON MJ/m3 </h2>\n",
    "\n",
    "***\n",
    "| Molecule | Gerg2008 [MJ/kg] | Cantera [MJ/kg] | Relative Error [-] |\n",
    "| :-: | :-: | :-: | :-: |\n",
    "| CH4 | 36.006035 | 35.998687 | 0.0204 |\n",
    "| C2H6| 63.466487 | 63.465512 | 0.0015 |\n",
    "| C3H8| 91.042889 | 91.047723 | 0.0053 |\n",
    "|  H2 | 11.529461 | 11.527464 | 0.0173 |\n",
    "|  CO | 11.425058 | 11.424982 | 0.0007 |"
   ]
  },
  {
   "cell_type": "code",
   "execution_count": 25,
   "id": "232a7e00",
   "metadata": {},
   "outputs": [],
   "source": [
    "# test over hydrogen and methane mixture\n",
    "hhv_list_mass = []\n",
    "lhv_list_mass = []\n",
    "hhv_list_vol = []\n",
    "lhv_list_vol = []\n",
    "h_list = []"
   ]
  },
  {
   "cell_type": "code",
   "execution_count": 26,
   "id": "12416c9c",
   "metadata": {},
   "outputs": [],
   "source": [
    "gas_comp = OrderedDict([('methane', 1.0), ('hydrogen', 0.0)])\n",
    "h_list.append(gas_comp['hydrogen'])\n",
    "gas_mixture = GasMixtureGERG2008(P=1 * bar, T=298, composition=gas_comp)"
   ]
  },
  {
   "cell_type": "code",
   "execution_count": 27,
   "id": "15475384",
   "metadata": {},
   "outputs": [],
   "source": [
    "HHV = gas_mixture.CalculateHeatingValue(gas_comp, hhv=True, parameter='mass')\n",
    "hhv_list_mass.append(HHV)\n",
    "LHV = gas_mixture.CalculateHeatingValue(gas_comp, hhv=False, parameter='mass')\n",
    "lhv_list_mass.append(LHV)\n",
    "HHV = gas_mixture.CalculateHeatingValue(gas_comp, hhv=True, parameter='vol')\n",
    "hhv_list_vol.append(HHV)\n",
    "LHV = gas_mixture.CalculateHeatingValue(gas_comp, hhv=False, parameter='vol')\n",
    "lhv_list_vol.append(LHV)"
   ]
  },
  {
   "cell_type": "code",
   "execution_count": 28,
   "id": "7059ff45",
   "metadata": {},
   "outputs": [],
   "source": [
    "while gas_comp['methane'] >= 0:\n",
    "\n",
    "    gas_comp['methane'] -= 0.01\n",
    "    gas_comp['hydrogen'] += 0.01\n",
    "    h_list.append(gas_comp['hydrogen'])\n",
    "\n",
    "    gas_mixture = GasMixtureGERG2008(P=1 * bar, T=298, composition=gas_comp)\n",
    "\n",
    "    HHV = gas_mixture.CalculateHeatingValue(gas_comp, hhv=True, parameter='mass')\n",
    "    hhv_list_mass.append(HHV)\n",
    "    LHV = gas_mixture.CalculateHeatingValue(gas_comp, hhv=False, parameter='mass')\n",
    "    lhv_list_mass.append(LHV)\n",
    "    HHV = gas_mixture.CalculateHeatingValue(gas_comp, hhv=True, parameter='vol')\n",
    "    hhv_list_vol.append(HHV)\n",
    "    LHV = gas_mixture.CalculateHeatingValue(gas_comp, hhv=False, parameter='vol')\n",
    "    lhv_list_vol.append(LHV)"
   ]
  },
  {
   "cell_type": "code",
   "execution_count": 29,
   "id": "d2ae572e",
   "metadata": {},
   "outputs": [],
   "source": [
    "h_list_perc = [i*100 for i in h_list]\n",
    "hhv_list_mass = [i/1000 for i in hhv_list_mass]\n",
    "lhv_list_mass = [i/1000 for i in lhv_list_mass]\n",
    "hhv_list_vol = [i/1000 for i in hhv_list_vol]\n",
    "lhv_list_vol = [i/1000 for i in lhv_list_vol]"
   ]
  },
  {
   "cell_type": "code",
   "execution_count": 30,
   "id": "201ce6e4",
   "metadata": {},
   "outputs": [
    {
     "data": {
      "image/png": "[encoded data removed]",
      "text/plain": [
       "<Figure size 640x480 with 1 Axes>"
      ]
     },
     "metadata": {},
     "output_type": "display_data"
    }
   ],
   "source": [
    "plt.figure()\n",
    "plt.plot(h_list_perc, hhv_list_mass, label=\"HHV\")\n",
    "plt.plot(h_list_perc, lhv_list_mass, label=\"LHV\")\n",
    "plt.xlabel(\"Hydrogen Concentration [%]\")\n",
    "plt.ylabel(\"Heating Value [MJ/kg]\")\n",
    "plt.legend()\n",
    "plt.title(\"HHV and LHV for Different H2 Concentrations\")\n",
    "plt.show()"
   ]
  },
  {
   "cell_type": "code",
   "execution_count": 31,
   "id": "93ff3138",
   "metadata": {},
   "outputs": [
    {
     "data": {
      "image/png": "[encoded data removed]",
      "text/plain": [
       "<Figure size 640x480 with 1 Axes>"
      ]
     },
     "metadata": {},
     "output_type": "display_data"
    }
   ],
   "source": [
    "plt.figure()\n",
    "plt.plot(h_list_perc, hhv_list_vol, label=\"HHV\")\n",
    "plt.plot(h_list_perc, lhv_list_vol, label=\"LHV\")\n",
    "plt.xlabel(\"Hydrogen Concentration [%]\")\n",
    "plt.ylabel(\"Heating Value [MJ/m3]\")\n",
    "plt.legend()\n",
    "plt.title(\"HHV and LHV for Different H2 Concentrations\")\n",
    "plt.show()"
   ]
  },
  {
   "cell_type": "code",
   "execution_count": null,
   "id": "c69971fd",
   "metadata": {},
   "outputs": [],
   "source": []
  }
 ],
 "metadata": {
  "kernelspec": {
   "display_name": "Python 3 (ipykernel)",
   "language": "python",
   "name": "python3"
  },
  "language_info": {
   "codemirror_mode": {
    "name": "ipython",
    "version": 3
   },
   "file_extension": ".py",
   "mimetype": "text/x-python",
   "name": "python",
   "nbconvert_exporter": "python",
   "pygments_lexer": "ipython3",
   "version": "3.9.13"
  }
 },
 "nbformat": 4,
 "nbformat_minor": 5
}
