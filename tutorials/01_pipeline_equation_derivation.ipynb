{
 "cells": [
  {
   "metadata": {},
   "cell_type": "markdown",
   "source": "# Tutorial 1: Pipeline Equation Derivation",
   "id": "72ce7628e8835619"
  },
  {
   "metadata": {},
   "cell_type": "markdown",
   "source": "## 1. Derivation of the pipeline flow equation",
   "id": "7c5b15b5cfadc73f"
  },
  {
   "metadata": {},
   "cell_type": "markdown",
   "source": [
    "There are several gas pipeline equations can be used to calculate the pipeline steady-state flow rate. The common variants are mostly originates from the 1st order Euler isothermal equations, where the first equation represents the mass conservation and the second on the energy.\n",
    "\n",
    "$$\n",
    "\\frac{\\partial\\rho}{\\partial t}+\\frac{\\partial(\\rho v)}{\\partial x} = 0,\\\\ \\frac{\\partial(\\rho v)}{\\partial t}+\\frac{\\partial(\\rho v^2)}{\\partial x}+\\frac{\\partial p}{\\partial x}+f \\frac{v|v|}{2D}\\rho+\\rho g \\sin\\theta=0\n",
    "$$\n",
    "\n",
    "In the static case, the velocity of the gas flow $v$ keeps constant along the pipeline and the density $\\rho$ does not vary during time. Therefore, the first equation and the first two terms in the second equation can be neglected. So now we have:\n",
    "\n",
    "$$\n",
    "\\frac{\\partial p}{\\partial x} + \\frac{f\\rho}{2D}|v|v + \\rho g\\sin(\\theta) = 0\n",
    "$$\n",
    "\n",
    "Now let's assume that the volumetric gas flow rate $Q = A\\cdot v$, where $A$ is the cross-section area of the pipe. And $\\rho = \\frac{MP}{ZRT}$, where $M=dM_{air}$ is the molar mass of gas ($d$ is the relative density and $M_{air}$ is the air molar mass which is around 28.96 g/mol), $P$ is the pressure, $Z$ is the gas compressibility factor and $R $ is the gas constant (8314.41 J/(kmol K)), $T$ is the temperature in K. So we get:\n",
    "\n",
    "$$\n",
    "\\frac{\\partial P}{\\partial x} + \\frac{fMP}{2ZRTDA^2}|Q|Q + g\\sin(\\theta)\\frac{PM}{ZRT} = 0\n",
    "$$\n",
    "\n",
    "Because now $P$ is only dependent on $x$, so we change the partial derivative symbol to $\\mathrm{d}$.\n",
    "\n",
    "$$\n",
    "\\mathrm{d}P = -\\frac{fMP}{2ZRTDA^2}|Q|Q\\mathrm{d}x - g\\sin(\\theta)\\frac{PM}{ZRT}\\mathrm{d}x\n",
    "$$\n",
    "\n",
    "Multiplying both sides with $\\rho$ ($\\rho=\\frac{MP}{ZRT}$)\n",
    "\n",
    "$$\n",
    "\\frac{MP}{ZRT}\\mathrm{d}P = -\\frac{fM^2P^2}{2Z^2R^2T^2DA^2}|Q|Q\\mathrm{d}x - g\\sin(\\theta)\\frac{P^2M^2}{Z^2R^2T^2}\\mathrm{d}x\n",
    "$$\n",
    "\n",
    "Now the only variables we have in the equation are the pressure $P$ and the volumetric flow rate $Q$, which are the ones we use to model our gas flow simulation. Now we calculate the integral of the above equation and we can get:\n",
    "\n",
    "$$\n",
    "\\frac{M}{ZRT}\\frac{P_2^2-P_1^2}{2} = -\\frac{fM^2P^2}{2Z^2R^2T^2DA^2}|Q|QL - g\\sin(\\theta)\\frac{P^2M^2}{Z^2R^2T^2}L\n",
    "$$\n",
    "\n",
    "Because we have replaced $\\rho$ with $\\frac{MP}{ZRT}$ and the density of the gas mixture depends on the pressure and temperature of the gas mixture. And the compressibility factor $Z$ also depends on the gas temperature and pressure. Therefore we assume there exists an average value for the pressure, temperature and compressibility factor of the transported gas mixture.\n",
    "\n",
    "$$\n",
    "\\frac{M}{Z_{avg}RT_{avg}}\\frac{P_2^2-P_1^2}{2} = -\\frac{fM^2P_{st}^2}{2Z_{st}^2R^2T_{st}^2DA^2}|Q_{st}|Q_{st}L - g\\sin(\\theta)\\frac{P_{avg}^2M^2}{Z_{avg}^2R^2T_{avg}^2}L\n",
    "$$\n",
    "\n",
    "By some further simplifications we can get the flow equation we need for our steady-state gas flow simulation.\n",
    "$$\n",
    "Q = \\pm\\pi\\sqrt{\\frac{R}{16M_{air}}}\\frac{T_{st}}{P_{st}}D^{2.5}\\sqrt{\\frac{|P_1^2-P_2^2-2g\\sin\\theta L\\frac{P_{avg}^2dM_{air}}{Z_{avg}RT_{avg}}|}{LdTZ_{avg}f}}\n",
    "$$"
   ],
   "id": "896f6e2739471518"
  },
  {
   "metadata": {},
   "cell_type": "markdown",
   "source": "## 2. Translate the pipeline equation into code",
   "id": "af4874890109ca97"
  },
  {
   "metadata": {},
   "cell_type": "markdown",
   "source": "### Import dependencies and assign constants",
   "id": "679d3477b16b4987"
  },
  {
   "metadata": {
    "ExecuteTime": {
     "end_time": "2024-08-18T21:49:24.778831Z",
     "start_time": "2024-08-18T21:49:24.424433Z"
    }
   },
   "cell_type": "code",
   "source": [
    "import numpy as np\n",
    "from scipy.constants import bar, atm, zero_Celsius, pi, R, g"
   ],
   "id": "9608bae319af4793",
   "outputs": [],
   "execution_count": 3
  },
  {
   "metadata": {
    "ExecuteTime": {
     "end_time": "2024-08-18T21:49:26.099497Z",
     "start_time": "2024-08-18T21:49:26.088528Z"
    }
   },
   "cell_type": "code",
   "source": [
    "print(f\"1 bar = {bar} Pa\")\n",
    "print(f\"1 atm = {atm} Pa\")\n",
    "print(f\"0 degree Celsius = {zero_Celsius} K\")\n",
    "print(f\"The gas constant R is: {R} $J⋅K^(−1)⋅mol−1$\")\n",
    "print(f\"standard acceleration of gravity: {g}\")"
   ],
   "id": "70054b6dcdabdf83",
   "outputs": [
    {
     "name": "stdout",
     "output_type": "stream",
     "text": [
      "1 bar = 100000.0 Pa\n",
      "1 atm = 101325.0 Pa\n",
      "0 degree Celsius = 273.15 K\n",
      "The gas constant R is: 8.314462618 $J⋅K^(−1)⋅mol−1$\n",
      "standard acceleration of gravity: 9.80665\n"
     ]
    }
   ],
   "execution_count": 4
  },
  {
   "metadata": {
    "ExecuteTime": {
     "end_time": "2024-08-18T21:50:00.810778Z",
     "start_time": "2024-08-18T21:50:00.780633Z"
    }
   },
   "cell_type": "code",
   "source": [
    "# Define constant variables\n",
    "STANDARD_TEMPERATURE = 15 + zero_Celsius  # standard temperature (15 degree Celsius in K)\n",
    "STANDARD_PRESSURE = 1 * atm  # standard pressure in Pa\n",
    "STANDARD_TEMPERATURE, STANDARD_PRESSURE"
   ],
   "id": "b5dfac41275e2d84",
   "outputs": [
    {
     "data": {
      "text/plain": [
       "(288.15, 101325.0)"
      ]
     },
     "execution_count": 5,
     "metadata": {},
     "output_type": "execute_result"
    }
   ],
   "execution_count": 5
  },
  {
   "metadata": {
    "ExecuteTime": {
     "end_time": "2024-08-18T21:50:32.719941Z",
     "start_time": "2024-08-18T21:50:32.710223Z"
    }
   },
   "cell_type": "code",
   "source": [
    "# Natural gas properties\n",
    "RD = 0.554 \n",
    "Z = 0.894\n",
    "# Average molar mass of air\n",
    "M_AIR = 28.97  # g/mol"
   ],
   "id": "14fa23db3acfbfe2",
   "outputs": [],
   "execution_count": 6
  },
  {
   "metadata": {},
   "cell_type": "markdown",
   "source": "### Define the functions to calculate flow rate",
   "id": "a0353e3c819c38fa"
  },
  {
   "metadata": {},
   "cell_type": "markdown",
   "source": [
    "$$\n",
    "Q = \\pm\\pi\\sqrt{\\frac{R}{16M_{air}}}\\frac{T_{st}}{P_{st}}D^{2.5}\\sqrt{\\frac{|P_1^2-P_2^2-2g\\sin\\theta L\\frac{P_{avg}^2dM_{air}}{Z_{avg}RT_{avg}}|}{LdTZ_{avg}f}}\n",
    "$$"
   ],
   "id": "3e3ee0a0ee4243fa"
  },
  {
   "metadata": {},
   "cell_type": "markdown",
   "source": [
    "\\begin{equation}\n",
    "Q_{st} = sgn(P_1,P_2,E)\\cdot C_1 \\frac{T_{st}}{P_{st}}\\left(\\frac{|P_1^2-P_2^2-E|}{LdT_{avg}Z_{avg}}\\right)^{0.5}\\frac{D^{2.5}}{\\sqrt{f}}\\\\\\\\\n",
    "\\end{equation}"
   ],
   "id": "3e51b4e4de929903"
  },
  {
   "metadata": {},
   "cell_type": "markdown",
   "source": [
    "\\begin{equation}\n",
    "sgn(P_1,P_2,E) = \\left\\{\\begin{aligned}\n",
    " 1&,~if ~P_1^2-P_2^2-E\\ge0,\\\\\n",
    " -1&,~if~P_1^2-P_2^2-E<0.\n",
    "\\end{aligned} \\right.\n",
    "\\end{equation}"
   ],
   "id": "2ac57ac27b9d2ed0"
  },
  {
   "metadata": {},
   "cell_type": "markdown",
   "source": [
    "\\begin{equation}\n",
    "E = C_2 d(H_2-H_1)\\frac{P_{avg}^2}{T_{avg}Z_{avg}}\n",
    "\\end{equation}"
   ],
   "id": "c2e62cea1839b670"
  },
  {
   "metadata": {
    "ExecuteTime": {
     "end_time": "2024-08-18T21:51:55.449441Z",
     "start_time": "2024-08-18T21:51:55.425166Z"
    }
   },
   "cell_type": "code",
   "source": [
    "# Determine the C1 and C2\n",
    "C1 = pi * (R * 1000 / 16 / M_AIR)**0.5\n",
    "C2 = 2 * g * M_AIR / (R * 1000)\n",
    "C1, C2"
   ],
   "id": "26b60dd1e07891fc",
   "outputs": [
    {
     "data": {
      "text/plain": [
       "(13.305546782440928, 0.06833842752145018)"
      ]
     },
     "execution_count": 7,
     "metadata": {},
     "output_type": "execute_result"
    }
   ],
   "execution_count": 7
  },
  {
   "metadata": {
    "ExecuteTime": {
     "end_time": "2024-08-18T21:52:07.101825Z",
     "start_time": "2024-08-18T21:52:07.096692Z"
    }
   },
   "cell_type": "code",
   "source": [
    "# Function to determine the flow direction\n",
    "def flow_direction(p1, p2, e):\n",
    "    if (p1**2 - p2**2 - e) >= 0:\n",
    "        return 1\n",
    "    else:\n",
    "        return -1"
   ],
   "id": "e4fcb06e0b687566",
   "outputs": [],
   "execution_count": 8
  },
  {
   "metadata": {
    "ExecuteTime": {
     "end_time": "2024-08-18T21:52:12.746834Z",
     "start_time": "2024-08-18T21:52:12.735038Z"
    }
   },
   "cell_type": "code",
   "source": [
    "# Function to calculate the average temperature\n",
    "def calculate_average_temperature(t1, t2):\n",
    "    return (t1+t2) / 2"
   ],
   "id": "98282cdcaafbf959",
   "outputs": [],
   "execution_count": 9
  },
  {
   "metadata": {
    "ExecuteTime": {
     "end_time": "2024-08-18T21:52:17.782300Z",
     "start_time": "2024-08-18T21:52:17.775064Z"
    }
   },
   "cell_type": "code",
   "source": [
    "# Function to calculate the average pressure\n",
    "def calculate_average_pressure(p1, p2):\n",
    "    return 2/3 * ((p1+p2) - (p1*p2) / (p1 + p2))"
   ],
   "id": "ff72ac8c1212a0a8",
   "outputs": [],
   "execution_count": 10
  },
  {
   "metadata": {
    "ExecuteTime": {
     "end_time": "2024-08-18T21:52:24.402367Z",
     "start_time": "2024-08-18T21:52:24.391959Z"
    }
   },
   "cell_type": "code",
   "source": [
    "# Function to calculate the height difference effect\n",
    "def height_effect(h1, h2, p1, p2, t1, t2, d=RD, Z=Z):\n",
    "    p_avg = calculate_average_pressure(p1, p2)\n",
    "    t_avg = calculate_average_temperature(t1, t2)\n",
    "    return C2 * d * (h2-h1) * p_avg**2 / (t_avg*Z)"
   ],
   "id": "72d51aa8f71bca1f",
   "outputs": [],
   "execution_count": 11
  },
  {
   "metadata": {},
   "cell_type": "markdown",
   "source": [
    "\\begin{equation}\n",
    "Q_{ij}=\\mathrm{sgn}(P_i,P_j,E_{ij})C_{ij}|P_i^2 - P_j^ 2-E_{ij}|^{0.5}\n",
    "\\end{equation}"
   ],
   "id": "e264be11ea4ae519"
  },
  {
   "metadata": {
    "ExecuteTime": {
     "end_time": "2024-08-18T21:52:56.096711Z",
     "start_time": "2024-08-18T21:52:56.086123Z"
    }
   },
   "cell_type": "code",
   "source": [
    "# Create a helper function to calculate C_ij of a pipe which won't change during one iteration\n",
    "def c_pipe(t1, t2, L, D, f=0.01, eta=0.85, Z=Z, d=RD):\n",
    "    t_avg = calculate_average_temperature(t1, t2)\n",
    "    return C1 * STANDARD_TEMPERATURE/STANDARD_PRESSURE * (D**2.5) * eta * (1 / (L*t_avg*f*d*Z))**0.5"
   ],
   "id": "f64f402282f1386d",
   "outputs": [],
   "execution_count": 13
  },
  {
   "metadata": {
    "ExecuteTime": {
     "end_time": "2024-08-18T21:53:11.475596Z",
     "start_time": "2024-08-18T21:53:11.468546Z"
    }
   },
   "cell_type": "code",
   "source": [
    "def volumetric_flow_rate(p1, p2, t1, t2, h1, h2, L, D, d=RD, Z=Z, f=0.01, eta=0.85):\n",
    "    # p_avg = calculate_average_pressure(p1, p2)\n",
    "    t_avg = calculate_average_temperature(t1, t2)\n",
    "    e = height_effect(h1, h2, p1, p2, t1, t2)\n",
    "    f_direction = flow_direction(p1, p2, e)\n",
    "    return f_direction * eta * C1 * STANDARD_TEMPERATURE/STANDARD_PRESSURE * (abs(p1**2 - p2**2 - e) / (L*d*t_avg*Z))**0.5 * D**2.5 / f**0.5"
   ],
   "id": "262ec2f86f77c724",
   "outputs": [],
   "execution_count": 14
  },
  {
   "metadata": {
    "ExecuteTime": {
     "end_time": "2024-08-18T21:53:17.082852Z",
     "start_time": "2024-08-18T21:53:17.070321Z"
    }
   },
   "cell_type": "code",
   "source": [
    "volumetric_flow_rate(p1=50*bar,\n",
    "                     p2=48*bar,\n",
    "                     t1=300,\n",
    "                     t2=300,\n",
    "                     h1=0,\n",
    "                     h2=0,\n",
    "                     L=100e3,\n",
    "                     D=0.5)"
   ],
   "id": "af8e564ea4c8c858",
   "outputs": [
    {
     "data": {
      "text/plain": [
       "20.650113399102267"
      ]
     },
     "execution_count": 15,
     "metadata": {},
     "output_type": "execute_result"
    }
   ],
   "execution_count": 15
  },
  {
   "metadata": {},
   "cell_type": "code",
   "outputs": [],
   "execution_count": null,
   "source": "",
   "id": "a790b13b9e8c74ff"
  }
 ],
 "metadata": {
  "kernelspec": {
   "display_name": "Python 3",
   "language": "python",
   "name": "python3"
  },
  "language_info": {
   "codemirror_mode": {
    "name": "ipython",
    "version": 2
   },
   "file_extension": ".py",
   "mimetype": "text/x-python",
   "name": "python",
   "nbconvert_exporter": "python",
   "pygments_lexer": "ipython2",
   "version": "2.7.6"
  }
 },
 "nbformat": 4,
 "nbformat_minor": 5
}
