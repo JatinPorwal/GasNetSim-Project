{
 "cells": [
  {
   "cell_type": "markdown",
   "id": "72ce7628e8835619",
   "metadata": {},
   "source": [
    "# Tutorial 1: Pipeline Equation Derivation"
   ]
  },
  {
   "cell_type": "code",
   "execution_count": 1,
   "id": "7a1d28bceb9b1746",
   "metadata": {
    "ExecuteTime": {
     "end_time": "2024-08-20T11:28:55.157776Z",
     "start_time": "2024-08-20T11:28:53.709616Z"
    }
   },
   "outputs": [],
   "source": [
    "%matplotlib inline"
   ]
  },
  {
   "cell_type": "markdown",
   "id": "7c5b15b5cfadc73f",
   "metadata": {},
   "source": [
    "## 1. Pipeline flow equation"
   ]
  },
  {
   "cell_type": "markdown",
   "id": "896f6e2739471518",
   "metadata": {},
   "source": [
    "There are several gas pipeline equations can be used to calculate the pipeline steady-state flow rate. The common variants are mostly originates from the 1st order Euler isothermal equations, where the first equation represents the mass conservation and the second on the energy.\n",
    "\n",
    "$$\n",
    "\\frac{\\partial\\rho}{\\partial t}+\\frac{\\partial(\\rho v)}{\\partial x} = 0,\\\\ \\frac{\\partial(\\rho v)}{\\partial t}+\\frac{\\partial(\\rho v^2)}{\\partial x}+\\frac{\\partial p}{\\partial x}+f \\frac{v|v|}{2D}\\rho+\\rho g \\sin\\theta=0\n",
    "$$\n",
    "\n",
    "In the static case, the velocity of the gas flow $v$ keeps constant along the pipeline and the density $\\rho$ does not vary during time. Therefore, the first equation and the first two terms in the second equation can be neglected. So now we have:\n",
    "\n",
    "$$\n",
    "\\frac{\\partial p}{\\partial x} + \\frac{f\\rho}{2D}|v|v + \\rho g\\sin(\\theta) = 0\n",
    "$$\n",
    "\n",
    "Now let's assume that the volumetric gas flow rate $Q = A\\cdot v$, where $A$ is the cross-section area of the pipe. And $\\rho = \\frac{MP}{ZRT}$, where $M=dM_{air}$ is the molar mass of gas ($d$ is the relative density and $M_{air}$ is the air molar mass which is around 28.96 g/mol), $P$ is the pressure, $Z$ is the gas compressibility factor and $R $ is the gas constant (8314.41 J/(kmol K)), $T$ is the temperature in K. So we get:\n",
    "\n",
    "$$\n",
    "\\frac{\\partial P}{\\partial x} + \\frac{fMP}{2ZRTDA^2}|Q|Q + g\\sin(\\theta)\\frac{PM}{ZRT} = 0\n",
    "$$\n",
    "\n",
    "Because now $P$ is only dependent on $x$, so we change the partial derivative symbol to $\\mathrm{d}$.\n",
    "\n",
    "$$\n",
    "\\mathrm{d}P = -\\frac{fMP}{2ZRTDA^2}|Q|Q\\mathrm{d}x - g\\sin(\\theta)\\frac{PM}{ZRT}\\mathrm{d}x\n",
    "$$\n",
    "\n",
    "Multiplying both sides with $\\rho$ ($\\rho=\\frac{MP}{ZRT}$)\n",
    "\n",
    "$$\n",
    "\\frac{MP}{ZRT}\\mathrm{d}P = -\\frac{fM^2P^2}{2Z^2R^2T^2DA^2}|Q|Q\\mathrm{d}x - g\\sin(\\theta)\\frac{P^2M^2}{Z^2R^2T^2}\\mathrm{d}x\n",
    "$$\n",
    "\n",
    "Now the only variables we have in the equation are the pressure $P$ and the volumetric flow rate $Q$, which are the ones we use to model our gas flow simulation. Now we calculate the integral of the above equation and we can get:\n",
    "\n",
    "$$\n",
    "\\frac{M}{ZRT}\\frac{P_2^2-P_1^2}{2} = -\\frac{fM^2P^2}{2Z^2R^2T^2DA^2}|Q|QL - g\\sin(\\theta)\\frac{P^2M^2}{Z^2R^2T^2}L\n",
    "$$\n",
    "\n",
    "Because we have replaced $\\rho$ with $\\frac{MP}{ZRT}$ and the density of the gas mixture depends on the pressure and temperature of the gas mixture. And the compressibility factor $Z$ also depends on the gas temperature and pressure. Therefore we assume there exists an average value for the pressure, temperature and compressibility factor of the transported gas mixture.\n",
    "\n",
    "$$\n",
    "\\frac{M}{Z_{avg}RT_{avg}}\\frac{P_2^2-P_1^2}{2} = -\\frac{fM^2P_{st}^2}{2Z_{st}^2R^2T_{st}^2DA^2}|Q_{st}|Q_{st}L - g\\sin(\\theta)\\frac{P_{avg}^2M^2}{Z_{avg}^2R^2T_{avg}^2}L\n",
    "$$\n",
    "\n",
    "By some further simplifications we can get the flow equation we need for our steady-state gas flow simulation.\n",
    "$$\n",
    "Q = \\pm\\pi\\sqrt{\\frac{R}{16M_{air}}}\\frac{T_{st}}{P_{st}}D^{2.5}\\sqrt{\\frac{|P_1^2-P_2^2-2g\\sin\\theta L\\frac{P_{avg}^2dM_{air}}{Z_{avg}RT_{avg}}|}{LdTZ_{avg}f}}\n",
    "$$"
   ]
  },
  {
   "cell_type": "markdown",
   "id": "679d3477b16b4987",
   "metadata": {},
   "source": [
    "### Import dependencies and assign constants"
   ]
  },
  {
   "cell_type": "code",
   "execution_count": 1,
   "id": "9608bae319af4793",
   "metadata": {
    "ExecuteTime": {
     "end_time": "2024-08-20T11:29:02.488222Z",
     "start_time": "2024-08-20T11:29:01.943412Z"
    }
   },
   "outputs": [],
   "source": [
    "import numpy as np\n",
    "import math\n",
    "import warnings\n",
    "import matplotlib.pyplot as plt\n",
    "from scipy.optimize import fsolve\n",
    "from scipy.constants import bar, atm, zero_Celsius, pi, R, g"
   ]
  },
  {
   "cell_type": "code",
   "execution_count": 2,
   "id": "12cea026-55c9-4225-8714-793dab99db44",
   "metadata": {},
   "outputs": [
    {
     "name": "stdout",
     "output_type": "stream",
     "text": [
      "1 bar = 100000.0 Pa\n",
      "1 atm = 101325.0 Pa\n",
      "0 degree Celsius = 273.15 K\n",
      "The gas constant R is: 8.314462618 J⋅K^(−1)⋅mol^(−1)\n",
      "standard acceleration of gravity: 9.80665 m/s^2\n"
     ]
    }
   ],
   "source": [
    "print(f\"1 bar = {bar} Pa\")\n",
    "print(f\"1 atm = {atm} Pa\")\n",
    "print(f\"0 degree Celsius = {zero_Celsius} K\")\n",
    "print(f\"The gas constant R is: {R} J⋅K^(−1)⋅mol^(−1)\")\n",
    "print(f\"standard acceleration of gravity: {g} m/s^2\")"
   ]
  },
  {
   "cell_type": "code",
   "execution_count": 3,
   "id": "b5dfac41275e2d84",
   "metadata": {
    "ExecuteTime": {
     "end_time": "2024-08-18T21:50:00.810778Z",
     "start_time": "2024-08-18T21:50:00.780633Z"
    }
   },
   "outputs": [
    {
     "data": {
      "text/plain": [
       "(288.15, 101325.0)"
      ]
     },
     "execution_count": 3,
     "metadata": {},
     "output_type": "execute_result"
    }
   ],
   "source": [
    "# Define constant variables\n",
    "STANDARD_TEMPERATURE = 15 + zero_Celsius  # standard temperature (15 degree Celsius in K)\n",
    "STANDARD_PRESSURE = 1 * atm  # standard pressure in Pa\n",
    "STANDARD_TEMPERATURE, STANDARD_PRESSURE"
   ]
  },
  {
   "cell_type": "code",
   "execution_count": 5,
   "id": "14fa23db3acfbfe2",
   "metadata": {
    "ExecuteTime": {
     "end_time": "2024-08-20T11:35:47.446820Z",
     "start_time": "2024-08-20T11:35:47.433671Z"
    }
   },
   "outputs": [],
   "source": [
    "# Natural gas properties\n",
    "RD = 0.554  # relative density d in the equation above\n",
    "Z = 0.894  # compressibility factor of gas\n",
    "# Average molar mass of air\n",
    "M_AIR = 28.97  # g/mol"
   ]
  },
  {
   "cell_type": "markdown",
   "id": "a0353e3c819c38fa",
   "metadata": {},
   "source": [
    "### Define the functions to calculate flow rate"
   ]
  },
  {
   "cell_type": "markdown",
   "id": "3e3ee0a0ee4243fa",
   "metadata": {},
   "source": [
    "$$\n",
    "Q = \\pm\\pi\\sqrt{\\frac{R}{16M_{air}}}\\frac{T_{st}}{P_{st}}D^{2.5}\\sqrt{\\frac{|P_1^2-P_2^2-2g\\sin\\theta L\\frac{P_{avg}^2dM_{air}}{Z_{avg}RT_{avg}}|}{LdTZ_{avg}f}}\n",
    "$$"
   ]
  },
  {
   "cell_type": "markdown",
   "id": "3e51b4e4de929903",
   "metadata": {},
   "source": [
    "\\begin{equation}\n",
    "Q_{st} = sgn(P_1,P_2,E)\\cdot C_1 \\frac{T_{st}}{P_{st}}\\left(\\frac{|P_1^2-P_2^2-E|}{LdT_{avg}Z_{avg}}\\right)^{0.5}\\frac{D^{2.5}}{\\sqrt{f}}\\\\\\\\\n",
    "\\end{equation}"
   ]
  },
  {
   "cell_type": "markdown",
   "id": "2ac57ac27b9d2ed0",
   "metadata": {},
   "source": [
    "\\begin{equation}\n",
    "sgn(P_1,P_2,E) = \\left\\{\\begin{aligned}\n",
    " 1&,~if ~P_1^2-P_2^2-E\\ge0,\\\\\n",
    " -1&,~if~P_1^2-P_2^2-E<0.\n",
    "\\end{aligned} \\right.\n",
    "\\end{equation}"
   ]
  },
  {
   "cell_type": "markdown",
   "id": "c2e62cea1839b670",
   "metadata": {},
   "source": [
    "\\begin{equation}\n",
    "E = C_2 d(H_2-H_1)\\frac{P_{avg}^2}{T_{avg}Z_{avg}}\n",
    "\\end{equation}"
   ]
  },
  {
   "cell_type": "code",
   "execution_count": 6,
   "id": "26b60dd1e07891fc",
   "metadata": {
    "ExecuteTime": {
     "end_time": "2024-08-18T21:51:55.449441Z",
     "start_time": "2024-08-18T21:51:55.425166Z"
    }
   },
   "outputs": [
    {
     "data": {
      "text/plain": [
       "(13.305546782440928, 0.06833842752145018)"
      ]
     },
     "execution_count": 6,
     "metadata": {},
     "output_type": "execute_result"
    }
   ],
   "source": [
    "# Determine the C1 and C2\n",
    "C1 = pi * (R * 1000 / 16 / M_AIR)**0.5\n",
    "C2 = 2 * g * M_AIR / (R * 1000)\n",
    "C1, C2"
   ]
  },
  {
   "cell_type": "code",
   "execution_count": 7,
   "id": "e4fcb06e0b687566",
   "metadata": {
    "ExecuteTime": {
     "end_time": "2024-08-18T21:52:07.101825Z",
     "start_time": "2024-08-18T21:52:07.096692Z"
    }
   },
   "outputs": [],
   "source": [
    "# Function to determine the flow direction\n",
    "def flow_direction(p1, p2, e):\n",
    "    if (p1**2 - p2**2 - e) >= 0:\n",
    "        return 1\n",
    "    else:\n",
    "        return -1"
   ]
  },
  {
   "cell_type": "code",
   "execution_count": 8,
   "id": "98282cdcaafbf959",
   "metadata": {
    "ExecuteTime": {
     "end_time": "2024-08-18T21:52:12.746834Z",
     "start_time": "2024-08-18T21:52:12.735038Z"
    }
   },
   "outputs": [],
   "source": [
    "# Function to calculate the average temperature\n",
    "def calculate_average_temperature(t1, t2):\n",
    "    return (t1+t2) / 2"
   ]
  },
  {
   "cell_type": "code",
   "execution_count": 9,
   "id": "ff72ac8c1212a0a8",
   "metadata": {
    "ExecuteTime": {
     "end_time": "2024-08-18T21:52:17.782300Z",
     "start_time": "2024-08-18T21:52:17.775064Z"
    }
   },
   "outputs": [],
   "source": [
    "# Function to calculate the average pressure\n",
    "def calculate_average_pressure(p1, p2):\n",
    "    return 2/3 * ((p1+p2) - (p1*p2) / (p1 + p2))"
   ]
  },
  {
   "cell_type": "code",
   "execution_count": 10,
   "id": "72d51aa8f71bca1f",
   "metadata": {
    "ExecuteTime": {
     "end_time": "2024-08-18T21:52:24.402367Z",
     "start_time": "2024-08-18T21:52:24.391959Z"
    }
   },
   "outputs": [],
   "source": [
    "# Function to calculate the height difference effect\n",
    "def height_effect(h1, h2, p1, p2, t1, t2, d=RD, Z=Z):\n",
    "    p_avg = calculate_average_pressure(p1, p2)\n",
    "    t_avg = calculate_average_temperature(t1, t2)\n",
    "    return C2 * d * (h2-h1) * p_avg**2 / (t_avg*Z)"
   ]
  },
  {
   "cell_type": "markdown",
   "id": "e264be11ea4ae519",
   "metadata": {},
   "source": [
    "\\begin{equation}\n",
    "Q_{ij}=\\mathrm{sgn}(P_i,P_j,E_{ij})C_{ij}|P_i^2 - P_j^ 2-E_{ij}|^{0.5}\n",
    "\\end{equation}"
   ]
  },
  {
   "cell_type": "code",
   "execution_count": 11,
   "id": "f64f402282f1386d",
   "metadata": {
    "ExecuteTime": {
     "end_time": "2024-08-18T21:52:56.096711Z",
     "start_time": "2024-08-18T21:52:56.086123Z"
    }
   },
   "outputs": [],
   "source": [
    "# Create a helper function to calculate C_ij of a pipe which won't change during one iteration\n",
    "def c_pipe(t1, t2, L, D, f=0.01, eta=0.85, Z=Z, d=RD):\n",
    "    t_avg = calculate_average_temperature(t1, t2)\n",
    "    return C1 * STANDARD_TEMPERATURE/STANDARD_PRESSURE * (D**2.5) * eta * (1 / (L*t_avg*f*d*Z))**0.5"
   ]
  },
  {
   "cell_type": "code",
   "execution_count": 12,
   "id": "262ec2f86f77c724",
   "metadata": {
    "ExecuteTime": {
     "end_time": "2024-08-18T21:53:11.475596Z",
     "start_time": "2024-08-18T21:53:11.468546Z"
    }
   },
   "outputs": [],
   "source": [
    "def volumetric_flow_rate(p1, p2, t1, t2, h1, h2, L, D, d=RD, Z=Z, f=0.01, eta=0.85):\n",
    "    # p_avg = calculate_average_pressure(p1, p2)\n",
    "    t_avg = calculate_average_temperature(t1, t2)\n",
    "    e = height_effect(h1, h2, p1, p2, t1, t2)\n",
    "    f_direction = flow_direction(p1, p2, e)\n",
    "    return f_direction * eta * C1 * STANDARD_TEMPERATURE/STANDARD_PRESSURE * (abs(p1**2 - p2**2 - e) / (L*d*t_avg*Z))**0.5 * D**2.5 / f**0.5"
   ]
  },
  {
   "cell_type": "code",
   "execution_count": 13,
   "id": "af8e564ea4c8c858",
   "metadata": {
    "ExecuteTime": {
     "end_time": "2024-08-18T21:53:17.082852Z",
     "start_time": "2024-08-18T21:53:17.070321Z"
    }
   },
   "outputs": [
    {
     "name": "stdout",
     "output_type": "stream",
     "text": [
      "The flow rate of the pipeline under given condition is: 20.65 sm^3/s.\n"
     ]
    }
   ],
   "source": [
    "flow_rate = volumetric_flow_rate(p1=50*bar,\n",
    "                                 p2=48*bar,\n",
    "                                 t1=300,\n",
    "                                 t2=300,\n",
    "                                 h1=0,\n",
    "                                 h2=0,\n",
    "                                 L=100e3,\n",
    "                                 D=0.5)\n",
    "print(f'The flow rate of the pipeline under given condition is: {flow_rate:.2f} sm^3/s.')"
   ]
  },
  {
   "cell_type": "markdown",
   "id": "0ebf9d7a-0802-4c2c-b5ec-4be617f776a8",
   "metadata": {},
   "source": [
    "## 2 Friction factor"
   ]
  },
  {
   "cell_type": "markdown",
   "id": "6cb2b7e7-8831-4e28-90cb-25851b719c41",
   "metadata": {},
   "source": [
    "There are many different pipeline equations, but most of them are just named after the friction factor models they use. In the above section, we have set the friction factor to be a constant 0.01. Now let's try with some friction models to see how this will affect the final flow calculation procedures and resutls. The below listed friction factor models can be found in the friction_factor.py file in GasNetSim. The tool is designed in such a way that you can simply implement your own friction factor model in this file and call it in the pipeline flow calculation module."
   ]
  },
  {
   "cell_type": "code",
   "execution_count": 14,
   "id": "69b82b89-27e3-4d4f-b90f-37fc8f1b85d8",
   "metadata": {
    "ExecuteTime": {
     "end_time": "2024-08-20T11:23:57.705024Z",
     "start_time": "2024-08-20T11:23:57.698359Z"
    }
   },
   "outputs": [],
   "source": [
    "def reynold_number(diameter, velocity, rho, viscosity):\n",
    "    \"\"\"\n",
    "    Calculate Reynolds number\n",
    "\n",
    "    :param diameter: pipe diameter (m)\n",
    "    :param velocity: fluid velocity (m/s)\n",
    "    :param rho: fluid density (kg/m3)\n",
    "    :param viscosity: fluid viscosity (Pa*s or kg/(m*s))\n",
    "    :return: Reynolds number (dimensionless)\n",
    "    \"\"\"\n",
    "    return (diameter * abs(velocity) * rho) / viscosity"
   ]
  },
  {
   "cell_type": "code",
   "execution_count": 15,
   "id": "bda9d66b-e385-4822-bee3-422bb6de3f78",
   "metadata": {
    "ExecuteTime": {
     "end_time": "2024-08-20T11:23:58.049405Z",
     "start_time": "2024-08-20T11:23:58.039706Z"
    }
   },
   "outputs": [],
   "source": [
    "def flow_velocity(flow_rate, diameter, temperature, pressure):\n",
    "    pb = STANDARD_PRESSURE\n",
    "    tb = STANDARD_TEMPERATURE\n",
    "    if flow_rate is not None:\n",
    "        cross_section = math.pi * (diameter/2)**2\n",
    "    return flow_rate * pb/tb * temperature / pressure/cross_section"
   ]
  },
  {
   "cell_type": "code",
   "execution_count": 16,
   "id": "d671e0f5-72bb-43f5-9b55-cc46e943b7e0",
   "metadata": {
    "ExecuteTime": {
     "end_time": "2024-08-20T11:23:58.405879Z",
     "start_time": "2024-08-20T11:23:58.388537Z"
    }
   },
   "outputs": [],
   "source": [
    "def hagen_poiseuille(N_re):\n",
    "    \"\"\"\n",
    "    Friction factor in Laminar zone can be calculated using Hagen-Poiseuille method\n",
    "    :param N_re:\n",
    "    :return:\n",
    "    \"\"\"\n",
    "    if N_re >= 2100:\n",
    "        warnings.warn(\"You are using Hagen-Poiseuille friction model for a non-laminar flow!\")\n",
    "    return 64 / N_re"
   ]
  },
  {
   "cell_type": "code",
   "execution_count": 17,
   "id": "99f26bfe-bf74-4d1b-a154-55d3c28977bb",
   "metadata": {
    "ExecuteTime": {
     "end_time": "2024-08-20T11:23:58.827406Z",
     "start_time": "2024-08-20T11:23:58.816420Z"
    }
   },
   "outputs": [],
   "source": [
    "def nikuradse(d, epsilon):\n",
    "    return 1 / (2 * math.log(d / epsilon, 10) + 1.14) ** 2"
   ]
  },
  {
   "cell_type": "code",
   "execution_count": 18,
   "id": "da5fb626-848d-4ec6-bff8-043d2fbea764",
   "metadata": {
    "ExecuteTime": {
     "end_time": "2024-08-20T11:23:59.268986Z",
     "start_time": "2024-08-20T11:23:59.245263Z"
    }
   },
   "outputs": [],
   "source": [
    "def colebrook_white(epsilon, d, N_re):\n",
    "    \"\"\"\n",
    "\n",
    "    :param epsilon:\n",
    "    :param d:\n",
    "    :param N_re:\n",
    "    :return:\n",
    "    \"\"\"\n",
    "    # d *= 1000\n",
    "    def func(f): return -2 * np.log(epsilon/d/3.71 + 2.51/N_re/np.sqrt(f))/np.log(10) - 1 / np.sqrt(f)\n",
    "    f_init_guess = 0.01\n",
    "    friction_factor = fsolve(func, f_init_guess)[0]\n",
    "    return friction_factor"
   ]
  },
  {
   "cell_type": "code",
   "execution_count": 19,
   "id": "f8129a5c-c332-48f7-b037-76c35c82a618",
   "metadata": {
    "ExecuteTime": {
     "end_time": "2024-08-20T11:23:59.704195Z",
     "start_time": "2024-08-20T11:23:59.677737Z"
    }
   },
   "outputs": [],
   "source": [
    "def colebrook_white_hofer_approximation(N_re, d, epsilon):\n",
    "    return (-2 * math.log(4.518/N_re * math.log(N_re/7, 10) + epsilon/3.71/d, 10))**(-2)"
   ]
  },
  {
   "cell_type": "code",
   "execution_count": 20,
   "id": "7cd9f87d-aec4-41e2-8893-1e927689313f",
   "metadata": {
    "ExecuteTime": {
     "end_time": "2024-08-20T11:24:00.071452Z",
     "start_time": "2024-08-20T11:24:00.019511Z"
    }
   },
   "outputs": [],
   "source": [
    "def chen(epsilon, d, N_re):\n",
    "    # Calculate the intermediate values according to the Chen equation\n",
    "    _term1 = epsilon / d / 3.7065\n",
    "    _term2 = 5.0452 / N_re * math.log10(((epsilon / d) ** 1.1098 / 2.8257) + (5.8506 / N_re) ** 0.8981)\n",
    "\n",
    "    # Ensure the argument for the logarithm is positive\n",
    "    if _term1 - _term2 <= 0:\n",
    "        raise ValueError(\"Logarithm argument must be positive. Check the Reynolds number or flow velocity!\")\n",
    "\n",
    "    _term3 = -2 * math.log10(_term1 - _term2)\n",
    "\n",
    "    _friction_factor = 1 / (_term3 ** 2)\n",
    "    return _friction_factor"
   ]
  },
  {
   "cell_type": "code",
   "execution_count": 21,
   "id": "dfff20c5-cd8e-47e5-9e59-69876fe45f42",
   "metadata": {
    "ExecuteTime": {
     "end_time": "2024-08-20T11:24:00.574785Z",
     "start_time": "2024-08-20T11:24:00.542579Z"
    }
   },
   "outputs": [],
   "source": [
    "def weymouth(d):\n",
    "    return 0.0093902 / (d ** (1 / 3))"
   ]
  },
  {
   "cell_type": "code",
   "execution_count": 23,
   "id": "4637b1c7-ebdb-428b-ad35-fda8f59992cb",
   "metadata": {},
   "outputs": [
    {
     "name": "stderr",
     "output_type": "stream",
     "text": [
      "C:\\Users\\jatin\\AppData\\Local\\Temp\\ipykernel_16436\\3200298905.py:8: UserWarning: You are using Hagen-Poiseuille friction model for a non-laminar flow!\n",
      "  warnings.warn(\"You are using Hagen-Poiseuille friction model for a non-laminar flow!\")\n"
     ]
    },
    {
     "data": {
      "text/plain": [
       "<matplotlib.legend.Legend at 0x2217ec636e0>"
      ]
     },
     "execution_count": 23,
     "metadata": {},
     "output_type": "execute_result"
    },
    {
     "data": {
      "image/png": "[encoded data removed]",
      "text/plain": [
       "<Figure size 640x480 with 1 Axes>"
      ]
     },
     "metadata": {},
     "output_type": "display_data"
    }
   ],
   "source": [
    "# Initialize result lists\n",
    "friction_results_hagen_poiseuille = []\n",
    "friction_results_nikuradse = []\n",
    "friction_results_colebrook_white = []\n",
    "friction_results_colebrook_white_hofer_approximation = []\n",
    "friction_results_chen = []\n",
    "friction_results_weymouth = []\n",
    "\n",
    "diameter = 0.5  # m\n",
    "roughness = 0.000015  # m\n",
    "\n",
    "# Generate Reynolds numbers on a logarithmic scale\n",
    "reynolds_numbers = np.logspace(3, 8, 50)\n",
    "\n",
    "# Calculate friction factors for different models\n",
    "for reynolds_number in reynolds_numbers:\n",
    "    friction_results_hagen_poiseuille.append(hagen_poiseuille(reynolds_number))\n",
    "    friction_results_nikuradse.append(nikuradse(d=diameter, epsilon=roughness))\n",
    "    friction_results_colebrook_white.append(colebrook_white(epsilon=roughness, d=diameter, N_re=reynolds_number))\n",
    "    friction_results_colebrook_white_hofer_approximation.append(colebrook_white_hofer_approximation(epsilon=roughness, d=diameter, N_re=reynolds_number))\n",
    "    friction_results_chen.append(chen(epsilon=roughness, d=diameter, N_re=reynolds_number))\n",
    "    friction_results_weymouth.append(weymouth(d=diameter))\n",
    "\n",
    "# Plot the results\n",
    "plt.figure()\n",
    "\n",
    "plt.plot(reynolds_numbers, friction_results_hagen_poiseuille, label='Hagen-Poiseuille')\n",
    "plt.plot(reynolds_numbers, friction_results_nikuradse, label='Nikuradse')\n",
    "plt.plot(reynolds_numbers, friction_results_colebrook_white, label='Colebrook-White')\n",
    "plt.plot(reynolds_numbers, friction_results_colebrook_white_hofer_approximation, label='Colebrook-White Hofer Approx')\n",
    "plt.plot(reynolds_numbers, friction_results_chen, label='Chen')\n",
    "plt.plot(reynolds_numbers, friction_results_weymouth, label='Weymouth')\n",
    "\n",
    "# Configure plot\n",
    "plt.xscale('log')\n",
    "# plt.yscale('log')\n",
    "plt.xlabel('Reynolds Number')\n",
    "plt.ylabel('Friction Factor')\n",
    "plt.title('Friction Factor vs. Reynolds Number')\n",
    "plt.grid(True, which='both', linestyle='--', linewidth=0.5)\n",
    "plt.legend()"
   ]
  },
  {
   "cell_type": "markdown",
   "id": "7720d6c2-619a-4fdb-b9b0-25676db8d839",
   "metadata": {},
   "source": [
    "As it can be seen in the above plot, the Nikuradse and Weymouth friction models produce constant friction factors, because both equations don't take the Reynolds number as their inputs. The Chen, and both Colebrook-White friction factor models produce relatively similar results. While the Hagen-Poiseuille friction model, because it is only valid for the laminar flow regime, returns very low friction factor values in the turbulent zone. In GasNetSim the Chen friction method is set as default for flow rate calculation."
   ]
  },
  {
   "cell_type": "code",
   "execution_count": 24,
   "id": "8f13cda7-8526-417c-b053-9c4d8c01e8c3",
   "metadata": {
    "ExecuteTime": {
     "end_time": "2024-08-20T11:35:53.862260Z",
     "start_time": "2024-08-20T11:35:53.850738Z"
    }
   },
   "outputs": [],
   "source": [
    "def volumetric_flow_rate(p1, p2, t1, t2, h1, h2, L, D, n_iter=0, d=RD, Z=Z, eta=0.85):\n",
    "    # p_avg = calculate_average_pressure(p1, p2)\n",
    "    t_avg = calculate_average_temperature(t1, t2)\n",
    "    p_avg = calculate_average_pressure(p1, p2)\n",
    "    e = height_effect(h1, h2, p1, p2, t1, t2)\n",
    "    f_direction = flow_direction(p1, p2, e)\n",
    "    if n_iter == 0:\n",
    "        f = 0.01\n",
    "    else:\n",
    "        N_re = reynold_number(diameter=D,\n",
    "                              velocity=volumetric_flow_rate(p1, p2, t1, t2, h1, h2, L, D, n_iter-1, d=RD, Z=Z, eta=0.85)*STANDARD_PRESSURE/STANDARD_TEMPERATURE * t_avg / p_avg/math.pi / (D/2)**2, \n",
    "                              rho=M_AIR * RD*p_avg/ Z / R/t_avg, \n",
    "                              viscosity=2e-4)\n",
    "        f = chen(epsilon=0.000015, d=D, N_re=N_re)\n",
    "    print(n_iter, f)\n",
    "    return f_direction * eta * C1 * STANDARD_TEMPERATURE/STANDARD_PRESSURE * (abs(p1**2 - p2**2 - e) / (L*d*t_avg*Z))**0.5 * D**2.5 / f**0.5"
   ]
  },
  {
   "cell_type": "code",
   "execution_count": 25,
   "id": "cea3d49b-859e-4657-8baa-5d40dac49d9d",
   "metadata": {
    "ExecuteTime": {
     "end_time": "2024-08-20T11:35:55.505467Z",
     "start_time": "2024-08-20T11:35:55.449524Z"
    }
   },
   "outputs": [
    {
     "name": "stdout",
     "output_type": "stream",
     "text": [
      "0 0.01\n",
      "1 0.028937170789683032\n",
      "2 0.03306461716208442\n",
      "3 0.033647919482515914\n",
      "4 0.033725602006458674\n",
      "5 0.03373586646151404\n",
      "6 0.033737221330355845\n",
      "7 0.03373740014334373\n",
      "8 0.03373742374231141\n",
      "9 0.03373742685679404\n",
      "10 0.033737427267828926\n"
     ]
    },
    {
     "data": {
      "text/plain": [
       "8.030021512662679e-05"
      ]
     },
     "execution_count": 25,
     "metadata": {},
     "output_type": "execute_result"
    }
   ],
   "source": [
    "volumetric_flow_rate(p1=0.05*bar,\n",
    "                     p2=0.04999*bar,\n",
    "                     t1=300,\n",
    "                     t2=300,\n",
    "                     h1=0,\n",
    "                     h2=0,\n",
    "                     L=100,\n",
    "                     D=0.05,\n",
    "                     n_iter=10)"
   ]
  },
  {
   "cell_type": "markdown",
   "id": "7836ab41-9522-4c09-bbe3-7b73a315aea2",
   "metadata": {},
   "source": [
    "## 3 Pipeline outlet flow temperature"
   ]
  },
  {
   "cell_type": "code",
   "execution_count": 26,
   "id": "fce0a2c5-291a-4139-a35c-3e80fe48a855",
   "metadata": {
    "ExecuteTime": {
     "end_time": "2024-08-20T11:27:54.551255Z",
     "start_time": "2024-08-20T11:27:54.543834Z"
    }
   },
   "outputs": [],
   "source": [
    "def calculate_beta_coefficient(ul, qm, cp, D):\n",
    "    \"\"\"\n",
    "\n",
    "    :param ul: Heat transfer coefficient [W m^(-2) K^(-1)]\n",
    "    :param qm: Mass flow [kg/s]\n",
    "    :param cp: Specific heat capacity at constant pressure [J/(kg K)]\n",
    "    :param D: pipeline diameter [m]\n",
    "    :return:\n",
    "    \"\"\"\n",
    "    return ul/(qm*cp) * math.pi * D"
   ]
  },
  {
   "cell_type": "code",
   "execution_count": 27,
   "id": "c228d305a7db487e",
   "metadata": {
    "ExecuteTime": {
     "end_time": "2024-08-20T11:27:56.698266Z",
     "start_time": "2024-08-20T11:27:56.688206Z"
    }
   },
   "outputs": [],
   "source": [
    "def calculate_gamma_coefficient(mu_jt, Z, R_specific, f, qm, p_avg, D):\n",
    "    \"\"\"\n",
    "\n",
    "    :param mu_jt: Joule–Thomson coefficient [K/Pa]\n",
    "    :param Z: Compressibility factor [-]\n",
    "    :param R_specific:\n",
    "    :param f: friction factor [-]\n",
    "    :param qm: Mass flow rate [kg/s]\n",
    "    :param p_avg: Average pressure [Pa]\n",
    "    :param D: Pipeline diameter [m]\n",
    "    :return: Gamma coefficient used for the calculation of pipeline outlet temperature\n",
    "    \"\"\"\n",
    "    A = math.pi * (D/2)**2\n",
    "    return mu_jt * Z * R_specific * f * qm * abs(qm) / (2*p_avg*D*A**2)"
   ]
  },
  {
   "cell_type": "code",
   "execution_count": 28,
   "id": "1ab608b1bf398935",
   "metadata": {
    "ExecuteTime": {
     "end_time": "2024-08-20T11:28:03.215180Z",
     "start_time": "2024-08-20T11:28:03.200095Z"
    }
   },
   "outputs": [],
   "source": [
    "def calculate_pipeline_outlet_temperature(beta, gamma, Ts, L, T1):\n",
    "    \"\"\"\n",
    "\n",
    "    :param beta: Beta coefficient used for the calculation of pipeline outlet temperature\n",
    "    :param gamma: Gamma coefficient used for the calculation of pipeline outlet temperature\n",
    "    :param Ts: Surrounding temperature [K]\n",
    "    :param L: Pipeline length [m]\n",
    "    :param T1: Temperature at pipeline inlet [K]\n",
    "    :return: Temperature at pipeline outlet [K]\n",
    "    \"\"\"\n",
    "    return beta/(beta-gamma)*(Ts - Ts * math.exp((gamma-beta)*L)) + T1*math.exp((gamma-beta)*L)"
   ]
  },
  {
   "cell_type": "code",
   "execution_count": 29,
   "id": "4695e1410ebf8d2d",
   "metadata": {
    "ExecuteTime": {
     "end_time": "2024-08-20T11:28:08.663499Z",
     "start_time": "2024-08-20T11:28:08.657227Z"
    }
   },
   "outputs": [],
   "source": [
    "heat_transfer_coefficient = 3.69  #\n",
    "mass_flow_rate = 55  # kg/s\n",
    "Ts = 288.15\n",
    "Cp = 2694.3337717294003\n",
    "diameter = 0.5\n",
    "JT = 3.2968900779744475e-06  # K/Pa\n",
    "Z = 0.9393400065622768\n",
    "R_specific = 0.5679360964034897\n",
    "friction_factor = 0.01\n",
    "average_pressure = 50e5"
   ]
  },
  {
   "cell_type": "code",
   "execution_count": 30,
   "id": "dead835a17a866c0",
   "metadata": {
    "ExecuteTime": {
     "end_time": "2024-08-20T11:28:14.519344Z",
     "start_time": "2024-08-20T11:28:14.503340Z"
    }
   },
   "outputs": [
    {
     "name": "stdout",
     "output_type": "stream",
     "text": [
      "3.911399347293434e-05 2.7600843433158597e-10\n",
      "288.1855772116586\n"
     ]
    }
   ],
   "source": [
    "beta = calculate_beta_coefficient(heat_transfer_coefficient, mass_flow_rate, Cp, diameter)\n",
    "gamma = calculate_gamma_coefficient(JT, Z, R_specific, friction_factor, mass_flow_rate, average_pressure, diameter)\n",
    "T_outlet = calculate_pipeline_outlet_temperature(beta, gamma, Ts, 150000, 300)\n",
    "print(beta, gamma)\n",
    "print(T_outlet)"
   ]
  },
  {
   "cell_type": "code",
   "execution_count": 31,
   "id": "dcede582a16196a4",
   "metadata": {
    "ExecuteTime": {
     "end_time": "2024-08-20T11:35:18.249631Z",
     "start_time": "2024-08-20T11:35:18.235470Z"
    }
   },
   "outputs": [],
   "source": [
    "dx = 1000\n",
    "position = np.arange(0, 150000 + dx, dx)\n",
    "Xs_EF = np.zeros(len(position))  # Euler forward\n",
    "Xs_EB = np.zeros(len(position))  # Euler backward\n",
    "Xs_TR = np.zeros(len(position))  # Trapizoid rule\n",
    "Xs_analytic = np.zeros(len(position))  # Analytic\n",
    "\n",
    "Xs_EF[0] = Xs_EB[0] = Xs_TR[0] = Xs_analytic[0] = 300\n",
    "\n",
    "a = gamma - beta\n",
    "b = beta * Ts\n",
    "for i in range(1, 151):\n",
    "    Xs_EF[i] = Xs_EF[i - 1] + dx * (a * Xs_EF[i - 1] + b)\n",
    "    Xs_EB[i] = 1 / (1 - dx * a) * (Xs_EB[i - 1] + dx * b)\n",
    "    Xs_TR[i] = (1 + dx * a / 2) / (1 - dx * a / 2) * Xs_TR[i - 1] + (dx * b) / (1 - dx * a / 2)\n",
    "    Xs_analytic[i] = calculate_pipeline_outlet_temperature(beta, gamma, Ts, i*1e3, 300)"
   ]
  },
  {
   "cell_type": "code",
   "execution_count": 32,
   "id": "ffa96bf207176c43",
   "metadata": {
    "ExecuteTime": {
     "end_time": "2024-08-20T11:35:24.419050Z",
     "start_time": "2024-08-20T11:35:23.905543Z"
    }
   },
   "outputs": [
    {
     "data": {
      "image/png": "[encoded data removed]",
      "text/plain": [
       "<Figure size 640x480 with 1 Axes>"
      ]
     },
     "metadata": {},
     "output_type": "display_data"
    }
   ],
   "source": [
    "plt.figure()\n",
    "plt.plot(Xs_EF, label=\"Euler forward\")\n",
    "plt.plot(Xs_EB, label=\"Euler backward\")\n",
    "plt.plot(Xs_TR, label=\"Trapizoid rule\")\n",
    "plt.plot(Xs_analytic, label=\"Analytical solution\")\n",
    "plt.xlabel(\"Distance [km]\")\n",
    "plt.ylabel(\"Temperature [K]\")\n",
    "plt.legend()\n",
    "plt.show()"
   ]
  },
  {
   "cell_type": "code",
   "execution_count": null,
   "id": "2d485961-c771-476f-96f5-e74bbeba4967",
   "metadata": {},
   "outputs": [],
   "source": []
  }
 ],
 "metadata": {
  "kernelspec": {
   "display_name": "Python 3 (ipykernel)",
   "language": "python",
   "name": "python3"
  },
  "language_info": {
   "codemirror_mode": {
    "name": "ipython",
    "version": 3
   },
   "file_extension": ".py",
   "mimetype": "text/x-python",
   "name": "python",
   "nbconvert_exporter": "python",
   "pygments_lexer": "ipython3",
   "version": "3.12.6"
  }
 },
 "nbformat": 4,
 "nbformat_minor": 5
}
