{
 "cells": [
  {
   "cell_type": "markdown",
   "id": "33499e24-4554-4699-8429-592c6b788602",
   "metadata": {},
   "source": [
    "# Tutorial 3: Simulation of a 3-nodes minimal network"
   ]
  },
  {
   "cell_type": "markdown",
   "id": "d15dab82-dbe9-41b6-9441-393b67a29d6b",
   "metadata": {
    "tags": []
   },
   "source": [
    "## 1. Import dependencies and create functions"
   ]
  },
  {
   "cell_type": "code",
   "execution_count": 41,
   "id": "6fd3d6ea-ede3-4eec-a3b5-098fc8aa527e",
   "metadata": {},
   "outputs": [],
   "source": [
    "import numpy as np\n",
    "from scipy.constants import bar, atm, zero_Celsius, pi, R, g"
   ]
  },
  {
   "cell_type": "code",
   "execution_count": 42,
   "id": "b6a21328-a25f-40c5-a1c0-c46b0987de6c",
   "metadata": {},
   "outputs": [
    {
     "name": "stdout",
     "output_type": "stream",
     "text": [
      "1 bar = 100000.0 Pa\n",
      "1 atm = 101325.0 Pa\n",
      "0 degree Celsius = 273.15 K\n",
      "The gas constant R is: 8.314462618 $J⋅K^(−1)⋅mol−1$\n",
      "standard acceleration of gravity: 9.80665\n"
     ]
    }
   ],
   "source": [
    "print(f\"1 bar = {bar} Pa\")\n",
    "print(f\"1 atm = {atm} Pa\")\n",
    "print(f\"0 degree Celsius = {zero_Celsius} K\")\n",
    "print(f\"The gas constant R is: {R} $J⋅K^(−1)⋅mol−1$\")\n",
    "print(f\"standard acceleration of gravity: {g}\")"
   ]
  },
  {
   "cell_type": "code",
   "execution_count": 43,
   "id": "d671188f-a75b-4588-bb15-e269e7d95325",
   "metadata": {},
   "outputs": [
    {
     "data": {
      "text/plain": [
       "(288.15, 101325.0)"
      ]
     },
     "execution_count": 43,
     "metadata": {},
     "output_type": "execute_result"
    }
   ],
   "source": [
    "# Define constant variables\n",
    "T_ST = 15 + zero_Celsius  # standard temperature (15 degree celcius in K)\n",
    "P_ST = 1 * atm  # standard pressure in Pa\n",
    "T_ST, P_ST"
   ]
  },
  {
   "cell_type": "code",
   "execution_count": 44,
   "id": "9f33742c-ff7e-4794-a4a8-003c9d1b1d48",
   "metadata": {},
   "outputs": [],
   "source": [
    "# Natural gas properties\n",
    "RD = 0.5809537044528823\n",
    "Z = 0.8949986269945526\n",
    "# Average molar mass of air\n",
    "M_AIR = 28.97  # g/mol"
   ]
  },
  {
   "cell_type": "code",
   "execution_count": 45,
   "id": "f92d6161-9405-4fa4-b5f9-7bfea26b6034",
   "metadata": {},
   "outputs": [
    {
     "data": {
      "text/plain": [
       "(13.305546782440928, 0.06833842752145018)"
      ]
     },
     "execution_count": 45,
     "metadata": {},
     "output_type": "execute_result"
    }
   ],
   "source": [
    "# Determin the C1 and C2\n",
    "C1 = pi * (R * 1000 / 16 / M_AIR)**0.5\n",
    "C2 = 2 * g * M_AIR / (R * 1000)\n",
    "C1, C2"
   ]
  },
  {
   "cell_type": "code",
   "execution_count": 46,
   "id": "51b6d189-6e1e-41f3-8ca7-7af00a2ddc9d",
   "metadata": {},
   "outputs": [],
   "source": [
    "# Function to determine the flow direction\n",
    "def flow_direction(p1, p2, e):\n",
    "    if (p1**2 - p2**2 - e) >= 0:\n",
    "        return 1\n",
    "    else:\n",
    "        return -1"
   ]
  },
  {
   "cell_type": "code",
   "execution_count": 47,
   "id": "f2b2a338-ae93-483c-998d-b48a585e466b",
   "metadata": {},
   "outputs": [],
   "source": [
    "# Function to calculate the average temperature\n",
    "def calculate_average_temperature(t1, t2):\n",
    "    return (t1+t2) / 2"
   ]
  },
  {
   "cell_type": "code",
   "execution_count": 48,
   "id": "1da704c9-0f29-4b32-bb4e-c2d13fbfd004",
   "metadata": {},
   "outputs": [],
   "source": [
    "# Function to calculate the average pressure\n",
    "def calculate_average_pressure(p1, p2):\n",
    "    return 2/3 * ((p1+p2) - (p1*p2) / (p1 + p2))"
   ]
  },
  {
   "cell_type": "code",
   "execution_count": 49,
   "id": "4b31e5fa-ca12-460e-8ad4-44a10ce6ea84",
   "metadata": {},
   "outputs": [],
   "source": [
    "# Function to calculate the height difference effect\n",
    "def height_effect(h1, h2, p1, p2, t1, t2, d=RD, Z=Z):\n",
    "    p_avg = calculate_average_pressure(p1, p2)\n",
    "    t_avg = calculate_average_temperature(t1, t2)\n",
    "    return C2 * d * (h2-h1) * p_avg**2 / (t_avg*Z)"
   ]
  },
  {
   "cell_type": "code",
   "execution_count": 50,
   "id": "132e5627-f08b-48e4-9e22-2efbbbf96754",
   "metadata": {},
   "outputs": [],
   "source": [
    "# Create a helper function to calculate C_ij of a pipe which won't change during one iteration\n",
    "def c_pipe(t1, t2, L, D, f=0.01, eta=0.85, Z=Z, d=RD):\n",
    "    t_avg = calculate_average_temperature(t1, t2)\n",
    "    return C1 * T_ST/P_ST * (D**2.5) * eta * (1 / (L*t_avg*f*d*Z))**0.5"
   ]
  },
  {
   "cell_type": "code",
   "execution_count": 51,
   "id": "563987ac-d406-4a2c-8409-13e4447d0cd4",
   "metadata": {},
   "outputs": [],
   "source": [
    "def volumetric_flow_rate(p1, p2, t1, t2, h1, h2, L, D, d=RD, Z=Z, f=0.01, eta=0.85):\n",
    "    # p_avg = calculate_average_pressure(p1, p2)\n",
    "    t_avg = calculate_average_temperature(t1, t2)\n",
    "    e = height_effect(h1, h2, p1, p2, t1, t2)\n",
    "    f_direction = flow_direction(p1, p2, e)\n",
    "    return f_direction * eta * C1 * T_ST/P_ST * (abs(p1**2 - p2**2 - e) / (L*d*t_avg*Z))**0.5 * D**2.5 / f**0.5"
   ]
  },
  {
   "cell_type": "markdown",
   "id": "0bb30f57-41af-40d6-b5af-2d5955287d22",
   "metadata": {
    "tags": []
   },
   "source": [
    "## 2. Simulation of a simple 3 nodes network using the Newton-Raphson algorithm"
   ]
  },
  {
   "attachments": {
    "bdba96f9-4e54-4eef-9a55-529802817641.PNG": {
     "image/png": "[encoded data removed]"
    }
   },
   "cell_type": "markdown",
   "id": "64d74746-9d0d-4ac7-8c19-650d881811a6",
   "metadata": {},
   "source": [
    "![Capture.PNG](attachment:bdba96f9-4e54-4eef-9a55-529802817641.PNG)"
   ]
  },
  {
   "cell_type": "code",
   "execution_count": 52,
   "id": "445b32fa-21d8-40cc-ad10-31e71c883273",
   "metadata": {},
   "outputs": [],
   "source": [
    "# Set up the known parameters & variables\n",
    "p1 = 50 * bar # 50 bar\n",
    "f_target = np.array([20., 30.])  # 20 sm3/s\n",
    "# t1 = 300\n",
    "t1 = 288.15\n",
    "t2 = 288.15\n",
    "t3 = 288.15\n",
    "h1 = 100\n",
    "h2 = 40\n",
    "h3 = 50"
   ]
  },
  {
   "cell_type": "code",
   "execution_count": 53,
   "id": "7ac16373-58c8-44ef-a9d0-6ed98107c6dd",
   "metadata": {},
   "outputs": [
    {
     "data": {
      "text/plain": [
       "array([4900000., 4802000.])"
      ]
     },
     "execution_count": 53,
     "metadata": {},
     "output_type": "execute_result"
    }
   ],
   "source": [
    "# Initialization for the NR-solver\n",
    "p2 = 0.98 * p1\n",
    "p3 = 0.98 * p2\n",
    "x0 = np.array([p2, p3])\n",
    "x0"
   ]
  },
  {
   "cell_type": "markdown",
   "id": "9727f067-e8ec-425c-9d09-c6fdeec99910",
   "metadata": {},
   "source": [
    "### first iteration"
   ]
  },
  {
   "cell_type": "code",
   "execution_count": 54,
   "id": "cb5aa2c5-f81f-4a8e-9ca0-a8843080d192",
   "metadata": {},
   "outputs": [
    {
     "name": "stdout",
     "output_type": "stream",
     "text": [
      "q12: 11.455115777937822,\n",
      "q32: -11.46963306390318,\n",
      "d2:-0.014517285965357729.\n"
     ]
    }
   ],
   "source": [
    "q12 = volumetric_flow_rate(p1, p2, t1, t2, h1, h2, 200000, D=0.5)\n",
    "q32 = volumetric_flow_rate(p3, p2, t3, t2, h3, h2, 150000, D=0.5)\n",
    "d2 = q12 + q32\n",
    "print(f'q12: {q12},\\nq32: {q32},\\nd2:{d2}.')"
   ]
  },
  {
   "cell_type": "code",
   "execution_count": null,
   "id": "989c9827-d508-4fdf-9c3b-ae3e91cb5e79",
   "metadata": {},
   "outputs": [
    {
     "name": "stdout",
     "output_type": "stream",
     "text": [
      "q13: 15.962668223726697,\n",
      "q23: 11.46963306390318,\n",
      "d2:27.432301287629876.\n"
     ]
    }
   ],
   "source": [
    "q13 = volumetric_flow_rate(p1, p3, t1, t3, h1, h3, 180000, D=0.5)\n",
    "q23 = volumetric_flow_rate(p2, p3, t2, t3, h2, h3, 150000, D=0.5)\n",
    "d3 = q13 + q23\n",
    "print(f'q13: {q13},\\nq23: {q23},\\nd2:{d3}.')"
   ]
  },
  {
   "cell_type": "code",
   "execution_count": null,
   "id": "b8fa7cf7-fafb-45cf-9870-51b24bed035c",
   "metadata": {},
   "outputs": [],
   "source": [
    "c12 = c_pipe(300, 288.15, 200000, 0.5)\n",
    "c23 = c_pipe(288.15, 288.15, 50000, 0.5)\n",
    "c13 = c_pipe(300, 288.15, 180000, 0.5)\n",
    "print(f'c12: {c12},\\nc23: {c23},\\nc13: {c13}.')"
   ]
  },
  {
   "cell_type": "code",
   "execution_count": null,
   "id": "43e6e3d0-1617-45b6-956b-52505c0366dc",
   "metadata": {},
   "outputs": [],
   "source": [
    "e12 = height_effect(h1, h2, p1, p2, t1, t2)\n",
    "e23 = height_effect(h2, h3, p2, p3, t2, t3)\n",
    "e13 = height_effect(h1, h3, p1, p3, t1, t3)\n",
    "print(e12, e23, e13)"
   ]
  },
  {
   "cell_type": "code",
   "execution_count": null,
   "id": "cb81e813-791f-4e6b-b787-ab86d4440a0d",
   "metadata": {},
   "outputs": [],
   "source": [
    "dq12_dp2 = c12 * p2 / (abs(p1**2 - p2**2 - e12))**0.5\n",
    "print(dq12_dp2)\n",
    "dq32_dp2 = c23 * p2 / (abs(p2**2 - p3**2 - e23))**0.5\n",
    "print(dq32_dp2)\n",
    "dq32_dp3 = c23 * (-p3) / (abs(p2**2 - p3**2 - e23))**0.5\n",
    "print(dq32_dp3)\n",
    "dq23_dp2 = c23 * (-p2) / (abs(p2**2 - p3**2 - e23))**0.5\n",
    "print(dq23_dp2)\n",
    "dq13_dp3 = c13 * p3 / (abs(p1**2 - p3**2 - e13))**0.5\n",
    "print(dq13_dp3)\n",
    "dq23_dp3 = c23 * p3 / (abs(p2**2 - p3**2 - e23))**0.5\n",
    "print(dq23_dp3)"
   ]
  },
  {
   "cell_type": "code",
   "execution_count": null,
   "id": "10df1618-033d-444b-9d50-9955d09c85c9",
   "metadata": {},
   "outputs": [],
   "source": [
    "j_mat = np.zeros((2, 2))\n",
    "j_mat[0][0] = dq12_dp2 + dq32_dp2\n",
    "j_mat[0][1] = dq32_dp3\n",
    "j_mat[1][0] = dq23_dp2\n",
    "j_mat[1][1] = dq13_dp3 + dq23_dp3\n",
    "j_mat"
   ]
  },
  {
   "cell_type": "code",
   "execution_count": null,
   "id": "05581173-0741-468a-b1f7-b1b474da0d81",
   "metadata": {},
   "outputs": [],
   "source": [
    "j_mat_inv = np.linalg.inv(j_mat)\n",
    "j_mat_inv"
   ]
  },
  {
   "cell_type": "code",
   "execution_count": null,
   "id": "d102a57c-f746-4950-a4ac-405e0ffa120e",
   "metadata": {},
   "outputs": [],
   "source": [
    "d2 = q12 + q32\n",
    "d3 = q13 + q23\n",
    "f0 = np.array([d2, d3])\n",
    "delta_f0 = f_target - f0\n",
    "f0, delta_f0"
   ]
  },
  {
   "cell_type": "code",
   "execution_count": null,
   "id": "5aebf7ff-cfbf-45ef-9d63-b11b1d627edd",
   "metadata": {},
   "outputs": [],
   "source": [
    "x1 = x0 - np.dot(j_mat_inv, delta_f0)\n",
    "print(x1)"
   ]
  },
  {
   "cell_type": "code",
   "execution_count": null,
   "id": "ad53592d-9254-4c8f-b0e2-0f8026638486",
   "metadata": {},
   "outputs": [],
   "source": [
    "err = 1\n",
    "tol = 0.01\n",
    "x0 = np.array([49*bar, 49*0.98*bar])\n",
    "p = x0\n",
    "n_iter = 0\n",
    "while err > tol:\n",
    "    p2 = p[0]\n",
    "    p3 = p[1]\n",
    "    # F(X)\n",
    "    q12 = volumetric_flow_rate(p1, p2, t1, t2, h1, h2, 200000, D=0.5)\n",
    "    q32 = volumetric_flow_rate(p3, p2, t3, t2, h3, h2, 150000, D=0.5)\n",
    "    q13 = volumetric_flow_rate(p1, p3, t1, t3, h1, h3, 180000, D=0.5)\n",
    "    q23 = volumetric_flow_rate(p2, p3, t2, t3, h2, h3, 150000, D=0.5)\n",
    "    \n",
    "    # Jacobian matrix\n",
    "    # c12 = c_pipe(300, 288.15, 200000, 0.5)\n",
    "    # c23 = c_pipe(288.15, 288.15, 50000, 0.5)\n",
    "    # c13 = c_pipe(300, 288.15, 180000, 0.5)\n",
    "    e12 = height_effect(h1, h2, p1, p2, t1, t2)\n",
    "    e23 = height_effect(h2, h3, p2, p3, t2, t3)\n",
    "    e13 = height_effect(h1, h3, p1, p3, t1, t3)\n",
    "    dq12_dp2 = c12 * p2 / (abs(p1**2 - p2**2 - e12))**0.5\n",
    "    dq32_dp2 = c23 * p2 / (abs(p2**2 - p3**2 - e23))**0.5\n",
    "    dq32_dp3 = c23 * (-p3) / (abs(p2**2 - p3**2 - e23))**0.5\n",
    "    dq23_dp2 = c23 * (-p2) / (abs(p2**2 - p3**2 - e23))**0.5\n",
    "    dq13_dp3 = c13 * p3 / (abs(p1**2 - p3**2 - e13))**0.5\n",
    "    dq23_dp3 = c23 * p3 / (abs(p2**2 - p3**2 - e23))**0.5\n",
    "    j_mat = np.zeros((2, 2))\n",
    "    j_mat[0][0] = dq12_dp2 + dq32_dp2\n",
    "    j_mat[0][1] = dq32_dp3\n",
    "    j_mat[1][0] = dq23_dp2\n",
    "    j_mat[1][1] = dq13_dp3 + dq23_dp3\n",
    "    \n",
    "    # Update unknown variables X\n",
    "    j_mat_inv = np.linalg.inv(j_mat)\n",
    "    d2 = q12 + q32\n",
    "    d3 = q13 + q23\n",
    "    f = np.array([d2, d3])\n",
    "    delta_f = f_target - f\n",
    "    print(f\"The error after the iteration step {n_iter} is: {delta_f}\")\n",
    "    p = p - np.dot(j_mat_inv, delta_f)\n",
    "    err = max(abs(delta_f))\n",
    "    n_iter += 1\n",
    "print(f'Simulation converges in {n_iter} iterations!')"
   ]
  },
  {
   "cell_type": "code",
   "execution_count": null,
   "id": "86421362-5bb7-4b41-8364-90a96b2cd260",
   "metadata": {},
   "outputs": [],
   "source": [
    "p"
   ]
  },
  {
   "cell_type": "code",
   "execution_count": null,
   "id": "05e1ddb4-0546-463f-9f82-9ebd8c6fbcc8",
   "metadata": {},
   "outputs": [],
   "source": [
    "f"
   ]
  },
  {
   "cell_type": "code",
   "execution_count": null,
   "id": "0a8d1e21-c940-4ca0-a829-2565c593f3cb",
   "metadata": {},
   "outputs": [],
   "source": [
    "p2 = p[0]\n",
    "p3 = p[1]\n",
    "q12 = volumetric_flow_rate(p1, p2, t1, t2, h1, h2, 200000, D=0.5)\n",
    "q13 = volumetric_flow_rate(p1, p3, t1, t3, h1, h3, 180000, D=0.5)\n",
    "q23 = volumetric_flow_rate(p2, p3, t2, t3, h2, h3, 150000, D=0.5)\n",
    "q12, q13, q23"
   ]
  },
  {
   "cell_type": "markdown",
   "id": "bc637ec3-9dae-4b9e-8a0a-10bc3e4987e0",
   "metadata": {},
   "source": [
    "## 3. Simulation of the same network using GasNetSim"
   ]
  },
  {
   "cell_type": "code",
   "execution_count": null,
   "id": "80166968-8f7e-4086-94a1-6427313025b8",
   "metadata": {},
   "outputs": [],
   "source": [
    "from pathlib import Path\n",
    "import matplotlib.pyplot as plt\n",
    "from scipy.constants import bar, zero_Celsius\n",
    "\n",
    "import GasNetSim as gns\n",
    "from GasNetSim import Node, Pipeline, Network"
   ]
  },
  {
   "cell_type": "code",
   "execution_count": null,
   "id": "c6bfc390-859f-4e09-834a-2ead4f8fe86d",
   "metadata": {},
   "outputs": [],
   "source": [
    "node1 = Node(node_index=1, pressure_pa=50*bar, altitude=100, node_type='reference')\n",
    "node2 = Node(node_index=2, volumetric_flow=20, altitude=40, node_type='demand')\n",
    "node3 = Node(node_index=3, volumetric_flow=30, altitude=50, node_type='demand')\n",
    "nodes = {1: node1,\n",
    "         2: node2,\n",
    "         3: node3}"
   ]
  },
  {
   "cell_type": "code",
   "execution_count": null,
   "id": "69a5715f-dfee-4d8d-8929-9cf14ac7ca1e",
   "metadata": {},
   "outputs": [],
   "source": [
    "pipeline1 = Pipeline(inlet=node1, outlet=node2, diameter=0.5, length=200e3, friction_factor_method='constant', constant_friction_factor=0.01)\n",
    "pipeline2 = Pipeline(inlet=node2, outlet=node3, diameter=0.5, length=150e3, friction_factor_method='constant', constant_friction_factor=0.01)\n",
    "pipeline3 = Pipeline(inlet=node3, outlet=node1, diameter=0.5, length=180e3, friction_factor_method='constant', constant_friction_factor=0.01)\n",
    "pipelines = {1: pipeline1,\n",
    "             2: pipeline2,\n",
    "             3: pipeline3}"
   ]
  },
  {
   "cell_type": "code",
   "execution_count": null,
   "id": "9af004e5-5c56-48c0-b75f-176033ab491b",
   "metadata": {},
   "outputs": [],
   "source": [
    "network = Network(nodes, pipelines)"
   ]
  },
  {
   "cell_type": "code",
   "execution_count": null,
   "id": "5dce1f87-4659-4125-ac5c-f209cf28ec61",
   "metadata": {},
   "outputs": [],
   "source": [
    "network.simulation(underrelaxation_factor=1)"
   ]
  },
  {
   "cell_type": "code",
   "execution_count": null,
   "id": "2aedd7f7-4481-4b9d-a352-7bc14fbb5880",
   "metadata": {},
   "outputs": [],
   "source": [
    "[n.pressure for n in network.nodes.values()]"
   ]
  },
  {
   "cell_type": "code",
   "execution_count": null,
   "id": "b4876f70-c3d6-4d02-b11e-98f6045d397e",
   "metadata": {},
   "outputs": [],
   "source": [
    "[p.flow_rate for p in network.pipelines.values()]"
   ]
  },
  {
   "cell_type": "code",
   "execution_count": null,
   "id": "ed5147bf-7ffd-4ff5-b5c4-7a49090c3706",
   "metadata": {},
   "outputs": [],
   "source": []
  }
 ],
 "metadata": {
  "kernelspec": {
   "display_name": "Python 3 (ipykernel)",
   "language": "python",
   "name": "python3"
  },
  "language_info": {
   "codemirror_mode": {
    "name": "ipython",
    "version": 3
   },
   "file_extension": ".py",
   "mimetype": "text/x-python",
   "name": "python",
   "nbconvert_exporter": "python",
   "pygments_lexer": "ipython3",
   "version": "3.9.18"
  }
 },
 "nbformat": 4,
 "nbformat_minor": 5
}
