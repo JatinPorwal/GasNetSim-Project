{
 "cells": [
  {
   "cell_type": "code",
   "execution_count": 1,
   "id": "b5a9449a-4591-4977-a6cf-65e6fa868529",
   "metadata": {},
   "outputs": [],
   "source": [
    "import thermo\n",
    "from collections import OrderedDict\n",
    "from thermo import ChemicalConstantsPackage, PRMIX, CEOSLiquid, CEOSGas, FlashPureVLS"
   ]
  },
  {
   "cell_type": "code",
   "execution_count": 2,
   "id": "744f0121-5cd9-4736-a366-2383f4fbf821",
   "metadata": {},
   "outputs": [
    {
     "name": "stdout",
     "output_type": "stream",
     "text": [
      "0.2.23\n"
     ]
    }
   ],
   "source": [
    "print(thermo.__version__)"
   ]
  },
  {
   "cell_type": "code",
   "execution_count": 3,
   "id": "875829f8-7a0d-409a-8669-a1d6572d81f4",
   "metadata": {},
   "outputs": [],
   "source": [
    "NATURAL_GAS = OrderedDict([('methane', 0.947),\n",
    "                           ('ethane', 0.042),\n",
    "                           ('propane', 0.002),\n",
    "                           ('isobutane', 0.0002),\n",
    "                           ('butane', 0.0002),\n",
    "                           ('isopentane', 0.0001),\n",
    "                           ('pentane', 0.0001),\n",
    "                           ('hexane', 0.0001),\n",
    "                           ('nitrogen', 0.005),\n",
    "                           ('carbon dioxide', 0.003),\n",
    "                           ('oxygen', 0.0001),\n",
    "                           ('hydrogen', 0.0002)])"
   ]
  },
  {
   "cell_type": "code",
   "execution_count": 4,
   "id": "4be73014-0535-419f-835f-e479f69e64d8",
   "metadata": {},
   "outputs": [
    {
     "name": "stdout",
     "output_type": "stream",
     "text": [
      "The JT coefficient at the specified conditions is 4.192e-06 K/Pa\n"
     ]
    }
   ],
   "source": [
    "from scipy.constants import bar\n",
    "from thermo import ChemicalConstantsPackage, PRMIX, CEOSLiquid, CEOSGas, FlashPureVLS\n",
    "# fluid = 'methane'\n",
    "constants, correlations = ChemicalConstantsPackage.from_IDs([gas for gas in NATURAL_GAS.keys()])\n",
    "\n",
    "T = 300\n",
    "P = 70*bar\n",
    "zs = [z for z in NATURAL_GAS.values()]\n",
    "\n",
    "eos_kwargs = dict(Tcs=constants.Tcs, Pcs=constants.Pcs, omegas=constants.omegas)\n",
    "liquid = CEOSLiquid(PRMIX, HeatCapacityGases=correlations.HeatCapacityGases,\n",
    "                    eos_kwargs=eos_kwargs)\n",
    "gas = CEOSGas(PRMIX, HeatCapacityGases=correlations.HeatCapacityGases, \n",
    "              eos_kwargs=eos_kwargs)\n",
    "flasher = FlashPureVLS(constants, correlations, liquids=[liquid], gas=gas, solids=[])\n",
    "\n",
    "res = flasher.flash(T=T, P=P, zs=zs)\n",
    "print(f'The JT coefficient at the specified conditions is {res.Joule_Thomson():.4g} K/Pa')"
   ]
  },
  {
   "cell_type": "code",
   "execution_count": 5,
   "id": "4f18f03d-4c67-41f6-851b-406f81659af8",
   "metadata": {},
   "outputs": [
    {
     "data": {
      "text/plain": [
       "0.8554029086698792"
      ]
     },
     "execution_count": 5,
     "metadata": {},
     "output_type": "execute_result"
    }
   ],
   "source": [
    "res.Z()"
   ]
  },
  {
   "cell_type": "code",
   "execution_count": 6,
   "id": "c57fe3d7-6eb9-444c-801c-a02823dfa9f7",
   "metadata": {},
   "outputs": [
    {
     "data": {
      "text/plain": [
       "[('methane', 0.947),\n",
       " ('ethane', 0.042),\n",
       " ('propane', 0.002),\n",
       " ('isobutane', 0.0002),\n",
       " ('butane', 0.0002),\n",
       " ('isopentane', 0.0001),\n",
       " ('pentane', 0.0001),\n",
       " ('hexane', 0.0001),\n",
       " ('nitrogen', 0.005),\n",
       " ('carbon dioxide', 0.003),\n",
       " ('oxygen', 0.0001),\n",
       " ('hydrogen', 0.0002)]"
      ]
     },
     "execution_count": 6,
     "metadata": {},
     "output_type": "execute_result"
    }
   ],
   "source": [
    "[(gas, z) for gas,z in NATURAL_GAS.items()]"
   ]
  },
  {
   "cell_type": "code",
   "execution_count": 7,
   "id": "71f0bd5c-8be6-4027-a760-fab98e4c6a26",
   "metadata": {},
   "outputs": [],
   "source": [
    "gerg_gas_spices = ['', 'methane', 'nitrogen', 'carbon dioxide', 'ethane', 'propane', 'isobutane',\n",
    "                   'butane', 'isopentane', 'pentane', 'hexane', 'heptane', 'octane', 'nonane',\n",
    "                   'decane', 'hydrogen', 'oxygen', 'carbon monoxide', 'water', 'hydrogen sulfide',\n",
    "                   'helium', 'argon']"
   ]
  },
  {
   "cell_type": "code",
   "execution_count": null,
   "id": "e2bcae7a-f081-4026-9322-df49ecd5e742",
   "metadata": {},
   "outputs": [],
   "source": []
  }
 ],
 "metadata": {
  "kernelspec": {
   "display_name": "Python 3 (ipykernel)",
   "language": "python",
   "name": "python3"
  },
  "language_info": {
   "codemirror_mode": {
    "name": "ipython",
    "version": 3
   },
   "file_extension": ".py",
   "mimetype": "text/x-python",
   "name": "python",
   "nbconvert_exporter": "python",
   "pygments_lexer": "ipython3",
   "version": "3.7.12"
  }
 },
 "nbformat": 4,
 "nbformat_minor": 5
}
