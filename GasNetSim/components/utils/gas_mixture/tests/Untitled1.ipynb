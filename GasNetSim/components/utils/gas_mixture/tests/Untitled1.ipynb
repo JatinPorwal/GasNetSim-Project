{
 "cells": [
  {
   "cell_type": "code",
   "execution_count": 7,
   "id": "28f85683-6b3a-4136-ad70-e0a4a4d45915",
   "metadata": {},
   "outputs": [],
   "source": [
    "%matplotlib inline"
   ]
  },
  {
   "cell_type": "code",
   "execution_count": 2,
   "id": "67192962-e4c5-4e2e-9101-1ee6573e4a1e",
   "metadata": {},
   "outputs": [
    {
     "name": "stdout",
     "output_type": "stream",
     "text": [
      "0.2.23\n"
     ]
    }
   ],
   "source": [
    "import thermo\n",
    "print(thermo.__version__)"
   ]
  },
  {
   "cell_type": "code",
   "execution_count": 8,
   "id": "c1dec49c-a3bb-4ddb-9013-967cc3f1c3da",
   "metadata": {},
   "outputs": [],
   "source": [
    "import matplotlib.pyplot as plt"
   ]
  },
  {
   "cell_type": "code",
   "execution_count": 4,
   "id": "017eba72-e7cb-403e-afbb-97aa049435c3",
   "metadata": {},
   "outputs": [],
   "source": [
    "ONE_ATM = 101325\n",
    "ITERATIONS = 100"
   ]
  },
  {
   "cell_type": "code",
   "execution_count": 9,
   "id": "e2bc47c4-37bf-46ee-ac7a-77ed6dfc3b51",
   "metadata": {},
   "outputs": [
    {
     "data": {
      "image/png": "[encoded data removed]",
      "text/plain": [
       "<Figure size 432x288 with 1 Axes>"
      ]
     },
     "metadata": {
      "needs_background": "light"
     },
     "output_type": "display_data"
    }
   ],
   "source": [
    "results = list()\n",
    "for i in range(ITERATIONS + 1):\n",
    "    composition = {\"methane\": 1 - i/ITERATIONS, \"hydrogen\": i / ITERATIONS}\n",
    "    gas_mix = thermo.Mixture(T=300, P=50*ONE_ATM, zs=composition)\n",
    "    results.append(gas_mix.Z)\n",
    "    plt.plot(results)"
   ]
  },
  {
   "cell_type": "code",
   "execution_count": null,
   "id": "96663292-f5ed-4b02-bc8e-7b026c05378e",
   "metadata": {},
   "outputs": [],
   "source": []
  }
 ],
 "metadata": {
  "kernelspec": {
   "display_name": "Python 3 (ipykernel)",
   "language": "python",
   "name": "python3"
  },
  "language_info": {
   "codemirror_mode": {
    "name": "ipython",
    "version": 3
   },
   "file_extension": ".py",
   "mimetype": "text/x-python",
   "name": "python",
   "nbconvert_exporter": "python",
   "pygments_lexer": "ipython3",
   "version": "3.7.12"
  }
 },
 "nbformat": 4,
 "nbformat_minor": 5
}
